{
 "cells": [
  {
   "cell_type": "markdown",
   "id": "0c0f1d39",
   "metadata": {},
   "source": [
    "# PySpark # 1"
   ]
  },
  {
   "cell_type": "markdown",
   "id": "5af0fb34",
   "metadata": {},
   "source": [
    "##### Índice:\n",
    "\n",
    "    # Instalação PySpark\n",
    "    # Importação bibliotecas / funções\n",
    "    # Criar Sessão PySpark\n",
    "    # Criar DF / ler arquivo\n",
    "    # Exibir DF\n",
    "    # Verificar tipos de colunas\n",
    "    # Verificando dados nulos\n",
    "    # Selecionar Colunas\n",
    "    # Selecionar Colunas com ALIAS\n",
    "    # Organizar Select\n",
    "    # Filtrar DF\n",
    "    # Filtrar DF com 2 ou mais condições (AND / &)\n",
    "    # Filtrar DF com 2 ou mais condições (OR / |)\n",
    "    # Filtrar DF combinando & e | (And e OR)\n",
    "    # Criar novas colunas (usando função lit)\n",
    "    # Criar coluna condicional (usando função substring)\n",
    "    # Criar coluna condicional (usando função concat_ws)\n",
    "    # Renomear Colunas\n",
    "    # Alterar tipo de coluna\n",
    "    # Desafio: Transformar coluna em tipo data"
   ]
  },
  {
   "cell_type": "code",
   "execution_count": 32,
   "id": "815f2763",
   "metadata": {},
   "outputs": [],
   "source": [
    "# conda install -c conda-forge pyspark"
   ]
  },
  {
   "cell_type": "markdown",
   "id": "97607fd7",
   "metadata": {},
   "source": [
    "##### Instalação PySpark - Conda"
   ]
  },
  {
   "cell_type": "code",
   "execution_count": 33,
   "id": "a2a93c4c",
   "metadata": {},
   "outputs": [],
   "source": [
    "# conda install -c conda-forge pyspark\n",
    "\n",
    "# pip install pyspark"
   ]
  },
  {
   "cell_type": "markdown",
   "id": "c5050fd8",
   "metadata": {},
   "source": [
    "##### Importação bibliotecas / funções"
   ]
  },
  {
   "cell_type": "code",
   "execution_count": 34,
   "id": "201c4760",
   "metadata": {},
   "outputs": [],
   "source": [
    "import os\n",
    "import sys\n",
    "\n",
    "os.environ['PYSPARK_PYTHON'] = sys.executable\n",
    "os.environ['PYSPARK_DRIVER_PYTHON'] = sys.executable\n",
    "\n",
    "# Resolver problema de versão Python x Pyspark workers\n",
    "\n",
    "# Somente usar esse bloco de código, caso esteja usando o Jupyter Notebook e aparecer erro\n",
    "# de incompatibilidade de versão ao tentar usar a função lambda\n",
    "# Caso apareça o erro e você já estiver no final do estudo, reinicie o ambiente e rode esse bloco."
   ]
  },
  {
   "cell_type": "code",
   "execution_count": 35,
   "id": "52691398",
   "metadata": {},
   "outputs": [],
   "source": [
    "from pyspark.sql import SparkSession\n",
    "\n",
    "from pyspark.sql.functions import *\n",
    "\n",
    "from pyspark.sql.types import *"
   ]
  },
  {
   "cell_type": "markdown",
   "id": "55dba21c",
   "metadata": {},
   "source": [
    "##### Criar / Iniciar Sessão PySpark"
   ]
  },
  {
   "cell_type": "code",
   "execution_count": 36,
   "id": "8752e978",
   "metadata": {},
   "outputs": [
    {
     "name": "stdout",
     "output_type": "stream",
     "text": [
      "<pyspark.sql.session.SparkSession object at 0x00000290BE897430>\n"
     ]
    }
   ],
   "source": [
    "spark = (\n",
    "    SparkSession.builder\n",
    "    .master('local')\n",
    "    .appName('PySpark_01')\n",
    "    .getOrCreate()\n",
    ")\n",
    "\n",
    "print(spark)"
   ]
  },
  {
   "cell_type": "markdown",
   "id": "8243c56d",
   "metadata": {},
   "source": [
    "##### Criar DF / ler arquivo"
   ]
  },
  {
   "cell_type": "code",
   "execution_count": 37,
   "id": "9e0eb2a2",
   "metadata": {},
   "outputs": [],
   "source": [
    "df = spark.read.csv('Arquivos/wc2018-players.csv', header=True, inferSchema=True)"
   ]
  },
  {
   "cell_type": "markdown",
   "id": "ad4c97e1",
   "metadata": {},
   "source": [
    "##### Exibir DF"
   ]
  },
  {
   "cell_type": "code",
   "execution_count": 38,
   "id": "18697fe5",
   "metadata": {},
   "outputs": [
    {
     "data": {
      "text/html": [
       "<div>\n",
       "<style scoped>\n",
       "    .dataframe tbody tr th:only-of-type {\n",
       "        vertical-align: middle;\n",
       "    }\n",
       "\n",
       "    .dataframe tbody tr th {\n",
       "        vertical-align: top;\n",
       "    }\n",
       "\n",
       "    .dataframe thead th {\n",
       "        text-align: right;\n",
       "    }\n",
       "</style>\n",
       "<table border=\"1\" class=\"dataframe\">\n",
       "  <thead>\n",
       "    <tr style=\"text-align: right;\">\n",
       "      <th></th>\n",
       "      <th>Team</th>\n",
       "      <th>#</th>\n",
       "      <th>Pos.</th>\n",
       "      <th>FIFA Popular Name</th>\n",
       "      <th>Birth Date</th>\n",
       "      <th>Shirt Name</th>\n",
       "      <th>Club</th>\n",
       "      <th>Height</th>\n",
       "      <th>Weight</th>\n",
       "    </tr>\n",
       "  </thead>\n",
       "  <tbody>\n",
       "    <tr>\n",
       "      <th>0</th>\n",
       "      <td>Argentina</td>\n",
       "      <td>3</td>\n",
       "      <td>DF</td>\n",
       "      <td>TAGLIAFICO Nicolas</td>\n",
       "      <td>31.08.1992</td>\n",
       "      <td>TAGLIAFICO</td>\n",
       "      <td>AFC Ajax (NED)</td>\n",
       "      <td>169</td>\n",
       "      <td>65</td>\n",
       "    </tr>\n",
       "    <tr>\n",
       "      <th>1</th>\n",
       "      <td>Argentina</td>\n",
       "      <td>22</td>\n",
       "      <td>MF</td>\n",
       "      <td>PAVON Cristian</td>\n",
       "      <td>21.01.1996</td>\n",
       "      <td>PAVÓN</td>\n",
       "      <td>CA Boca Juniors (ARG)</td>\n",
       "      <td>169</td>\n",
       "      <td>65</td>\n",
       "    </tr>\n",
       "    <tr>\n",
       "      <th>2</th>\n",
       "      <td>Argentina</td>\n",
       "      <td>15</td>\n",
       "      <td>MF</td>\n",
       "      <td>LANZINI Manuel</td>\n",
       "      <td>15.02.1993</td>\n",
       "      <td>LANZINI</td>\n",
       "      <td>West Ham United FC (ENG)</td>\n",
       "      <td>167</td>\n",
       "      <td>66</td>\n",
       "    </tr>\n",
       "    <tr>\n",
       "      <th>3</th>\n",
       "      <td>Argentina</td>\n",
       "      <td>18</td>\n",
       "      <td>DF</td>\n",
       "      <td>SALVIO Eduardo</td>\n",
       "      <td>13.07.1990</td>\n",
       "      <td>SALVIO</td>\n",
       "      <td>SL Benfica (POR)</td>\n",
       "      <td>167</td>\n",
       "      <td>69</td>\n",
       "    </tr>\n",
       "    <tr>\n",
       "      <th>4</th>\n",
       "      <td>Argentina</td>\n",
       "      <td>10</td>\n",
       "      <td>FW</td>\n",
       "      <td>MESSI Lionel</td>\n",
       "      <td>24.06.1987</td>\n",
       "      <td>MESSI</td>\n",
       "      <td>FC Barcelona (ESP)</td>\n",
       "      <td>170</td>\n",
       "      <td>72</td>\n",
       "    </tr>\n",
       "  </tbody>\n",
       "</table>\n",
       "</div>"
      ],
      "text/plain": [
       "        Team   # Pos.   FIFA Popular Name  Birth Date  Shirt Name  \\\n",
       "0  Argentina   3   DF  TAGLIAFICO Nicolas  31.08.1992  TAGLIAFICO   \n",
       "1  Argentina  22   MF      PAVON Cristian  21.01.1996       PAVÓN   \n",
       "2  Argentina  15   MF      LANZINI Manuel  15.02.1993     LANZINI   \n",
       "3  Argentina  18   DF      SALVIO Eduardo  13.07.1990      SALVIO   \n",
       "4  Argentina  10   FW        MESSI Lionel  24.06.1987       MESSI   \n",
       "\n",
       "                       Club  Height  Weight  \n",
       "0            AFC Ajax (NED)     169      65  \n",
       "1     CA Boca Juniors (ARG)     169      65  \n",
       "2  West Ham United FC (ENG)     167      66  \n",
       "3          SL Benfica (POR)     167      69  \n",
       "4        FC Barcelona (ESP)     170      72  "
      ]
     },
     "execution_count": 38,
     "metadata": {},
     "output_type": "execute_result"
    }
   ],
   "source": [
    "df.limit(5).toPandas()"
   ]
  },
  {
   "cell_type": "markdown",
   "id": "71dd0f84",
   "metadata": {},
   "source": [
    "##### Verificar tipos de colunas"
   ]
  },
  {
   "cell_type": "code",
   "execution_count": 39,
   "id": "910739dc",
   "metadata": {},
   "outputs": [
    {
     "name": "stdout",
     "output_type": "stream",
     "text": [
      "root\n",
      " |-- Team: string (nullable = true)\n",
      " |-- #: integer (nullable = true)\n",
      " |-- Pos.: string (nullable = true)\n",
      " |-- FIFA Popular Name: string (nullable = true)\n",
      " |-- Birth Date: string (nullable = true)\n",
      " |-- Shirt Name: string (nullable = true)\n",
      " |-- Club: string (nullable = true)\n",
      " |-- Height: integer (nullable = true)\n",
      " |-- Weight: integer (nullable = true)\n",
      "\n"
     ]
    }
   ],
   "source": [
    "df.printSchema()"
   ]
  },
  {
   "cell_type": "markdown",
   "id": "66d5b136",
   "metadata": {},
   "source": [
    "##### Verificando dados nulos"
   ]
  },
  {
   "cell_type": "code",
   "execution_count": 40,
   "id": "6488908e",
   "metadata": {},
   "outputs": [
    {
     "data": {
      "text/plain": [
       "Team                 0\n",
       "#                    0\n",
       "Pos.                 0\n",
       "FIFA Popular Name    0\n",
       "Birth Date           0\n",
       "Shirt Name           0\n",
       "Club                 0\n",
       "Height               0\n",
       "Weight               0\n",
       "dtype: int64"
      ]
     },
     "execution_count": 40,
     "metadata": {},
     "output_type": "execute_result"
    }
   ],
   "source": [
    "df.toPandas().isna().sum()"
   ]
  },
  {
   "cell_type": "code",
   "execution_count": 31,
   "id": "e03268d7",
   "metadata": {},
   "outputs": [],
   "source": [
    "# for coluna in df.columns:\n",
    "#     print(coluna, df.filter(df[coluna].isNull()).count())\n",
    "\n",
    "# Aparece mensagem de erro referente a coluna \"Pos.\", devido a ter \" . \" no nome.\n",
    "# Deixei em comentário para não atrapalhar o estudo."
   ]
  },
  {
   "cell_type": "markdown",
   "id": "10f57c14",
   "metadata": {},
   "source": [
    "##### Renomeando Colunas"
   ]
  },
  {
   "cell_type": "code",
   "execution_count": 41,
   "id": "994ddb28",
   "metadata": {},
   "outputs": [
    {
     "name": "stdout",
     "output_type": "stream",
     "text": [
      "+---------+------+-------+------------------+----------+-------------+--------------------+------+----+\n",
      "|  Selecao|Numero|Posicao|         Nome_FIFA|Nascimento|Nome Camiseta|                Time|Altura|Peso|\n",
      "+---------+------+-------+------------------+----------+-------------+--------------------+------+----+\n",
      "|Argentina|     3|     DF|TAGLIAFICO Nicolas|31.08.1992|   TAGLIAFICO|      AFC Ajax (NED)|   169|  65|\n",
      "|Argentina|    22|     MF|    PAVON Cristian|21.01.1996|        PAVÓN|CA Boca Juniors (...|   169|  65|\n",
      "|Argentina|    15|     MF|    LANZINI Manuel|15.02.1993|      LANZINI|West Ham United F...|   167|  66|\n",
      "|Argentina|    18|     DF|    SALVIO Eduardo|13.07.1990|       SALVIO|    SL Benfica (POR)|   167|  69|\n",
      "|Argentina|    10|     FW|      MESSI Lionel|24.06.1987|        MESSI|  FC Barcelona (ESP)|   170|  72|\n",
      "+---------+------+-------+------------------+----------+-------------+--------------------+------+----+\n",
      "only showing top 5 rows\n",
      "\n"
     ]
    }
   ],
   "source": [
    "df = df.withColumnRenamed('Team', 'Selecao').withColumnRenamed('#', 'Numero').withColumnRenamed('Pos.', 'Posicao')\\\n",
    ".withColumnRenamed('FIFA Popular Name', 'Nome_FIFA').withColumnRenamed('Birth Date', 'Nascimento')\\\n",
    ".withColumnRenamed('Shirt Name', 'Nome Camiseta').withColumnRenamed('Club', 'Time').withColumnRenamed('Height', 'Altura')\\\n",
    ".withColumnRenamed('Weight', 'Peso')\n",
    "\n",
    "df.show(5)"
   ]
  },
  {
   "cell_type": "code",
   "execution_count": 42,
   "id": "549c4c58",
   "metadata": {},
   "outputs": [
    {
     "data": {
      "text/plain": [
       "['Selecao',\n",
       " 'Numero',\n",
       " 'Posicao',\n",
       " 'Nome_FIFA',\n",
       " 'Nascimento',\n",
       " 'Nome Camiseta',\n",
       " 'Time',\n",
       " 'Altura',\n",
       " 'Peso']"
      ]
     },
     "execution_count": 42,
     "metadata": {},
     "output_type": "execute_result"
    }
   ],
   "source": [
    "df.columns"
   ]
  },
  {
   "cell_type": "code",
   "execution_count": 43,
   "id": "15e95691",
   "metadata": {},
   "outputs": [
    {
     "name": "stdout",
     "output_type": "stream",
     "text": [
      "Selecao 0\n",
      "Numero 0\n",
      "Posicao 0\n",
      "Nome_FIFA 0\n",
      "Nascimento 0\n",
      "Nome Camiseta 0\n",
      "Time 0\n",
      "Altura 0\n",
      "Peso 0\n"
     ]
    }
   ],
   "source": [
    "for coluna in df.columns:\n",
    "    print(coluna, df.filter(df[coluna].isNull()).count())"
   ]
  },
  {
   "cell_type": "markdown",
   "id": "52160055",
   "metadata": {},
   "source": [
    "##### Selecionar Colunas"
   ]
  },
  {
   "cell_type": "code",
   "execution_count": 44,
   "id": "f3b31788",
   "metadata": {},
   "outputs": [
    {
     "name": "stdout",
     "output_type": "stream",
     "text": [
      "+---------+------------------+\n",
      "|  Selecao|         NOME_FIFA|\n",
      "+---------+------------------+\n",
      "|Argentina|TAGLIAFICO Nicolas|\n",
      "|Argentina|    PAVON Cristian|\n",
      "|Argentina|    LANZINI Manuel|\n",
      "|Argentina|    SALVIO Eduardo|\n",
      "|Argentina|      MESSI Lionel|\n",
      "+---------+------------------+\n",
      "only showing top 5 rows\n",
      "\n"
     ]
    }
   ],
   "source": [
    "df.select('Selecao', 'NOME_FIFA').show(5)"
   ]
  },
  {
   "cell_type": "code",
   "execution_count": 45,
   "id": "4f13aefe",
   "metadata": {},
   "outputs": [
    {
     "name": "stdout",
     "output_type": "stream",
     "text": [
      "+---------+------+\n",
      "|  Selecao|Altura|\n",
      "+---------+------+\n",
      "|Argentina|   169|\n",
      "|Argentina|   169|\n",
      "|Argentina|   167|\n",
      "|Argentina|   167|\n",
      "|Argentina|   170|\n",
      "+---------+------+\n",
      "only showing top 5 rows\n",
      "\n"
     ]
    }
   ],
   "source": [
    "df.select(col('Selecao'), col('Altura')).show(5)"
   ]
  },
  {
   "cell_type": "code",
   "execution_count": 19,
   "id": "4c214b79",
   "metadata": {},
   "outputs": [
    {
     "name": "stdout",
     "output_type": "stream",
     "text": [
      "+---------+\n",
      "|  Selecao|\n",
      "+---------+\n",
      "|Argentina|\n",
      "|Argentina|\n",
      "|Argentina|\n",
      "|Argentina|\n",
      "|Argentina|\n",
      "+---------+\n",
      "only showing top 5 rows\n",
      "\n"
     ]
    }
   ],
   "source": [
    "df.select(df['Selecao']).show(5)"
   ]
  },
  {
   "cell_type": "markdown",
   "id": "85b68fa2",
   "metadata": {},
   "source": [
    "##### Selecionar Colunas com ALIAS"
   ]
  },
  {
   "cell_type": "code",
   "execution_count": 20,
   "id": "94eac6a7",
   "metadata": {},
   "outputs": [
    {
     "name": "stdout",
     "output_type": "stream",
     "text": [
      "+---------+\n",
      "|     Time|\n",
      "+---------+\n",
      "|Argentina|\n",
      "|Argentina|\n",
      "|Argentina|\n",
      "|Argentina|\n",
      "|Argentina|\n",
      "+---------+\n",
      "only showing top 5 rows\n",
      "\n"
     ]
    }
   ],
   "source": [
    "df.select(col('Selecao').alias('Time')).show(5)"
   ]
  },
  {
   "cell_type": "code",
   "execution_count": 21,
   "id": "19d84be4",
   "metadata": {},
   "outputs": [
    {
     "name": "stdout",
     "output_type": "stream",
     "text": [
      "+---------+------------------+------+\n",
      "|  Selecao|         Nome_FIFA|Altura|\n",
      "+---------+------------------+------+\n",
      "|Argentina|TAGLIAFICO Nicolas|   169|\n",
      "|Argentina|    PAVON Cristian|   169|\n",
      "|Argentina|    LANZINI Manuel|   167|\n",
      "|Argentina|    SALVIO Eduardo|   167|\n",
      "|Argentina|      MESSI Lionel|   170|\n",
      "+---------+------------------+------+\n",
      "only showing top 5 rows\n",
      "\n"
     ]
    }
   ],
   "source": [
    "df.select('Selecao Nome_FIFA Altura'.split()).show(5)"
   ]
  },
  {
   "cell_type": "markdown",
   "id": "0b5227fb",
   "metadata": {},
   "source": [
    "##### Organizar Select"
   ]
  },
  {
   "cell_type": "code",
   "execution_count": 22,
   "id": "d5b53f81",
   "metadata": {},
   "outputs": [
    {
     "name": "stdout",
     "output_type": "stream",
     "text": [
      "+------------------+----+------+\n",
      "|         Nome_Fifa|Peso|Altura|\n",
      "+------------------+----+------+\n",
      "|TAGLIAFICO Nicolas|  65|   169|\n",
      "|    PAVON Cristian|  65|   169|\n",
      "|    LANZINI Manuel|  66|   167|\n",
      "|    SALVIO Eduardo|  69|   167|\n",
      "|      MESSI Lionel|  72|   170|\n",
      "+------------------+----+------+\n",
      "only showing top 5 rows\n",
      "\n"
     ]
    }
   ],
   "source": [
    "df.select('Nome_Fifa', 'Peso', 'Altura').show(5)"
   ]
  },
  {
   "cell_type": "code",
   "execution_count": 23,
   "id": "4e7af3ba",
   "metadata": {},
   "outputs": [
    {
     "name": "stdout",
     "output_type": "stream",
     "text": [
      "+---------+------+-------+------------------+----------+-------------+--------------------+------+----+\n",
      "|  Selecao|Numero|Posicao|         Nome_FIFA|Nascimento|Nome Camiseta|                Time|Altura|Peso|\n",
      "+---------+------+-------+------------------+----------+-------------+--------------------+------+----+\n",
      "|Argentina|     3|     DF|TAGLIAFICO Nicolas|31.08.1992|   TAGLIAFICO|      AFC Ajax (NED)|   169|  65|\n",
      "|Argentina|    22|     MF|    PAVON Cristian|21.01.1996|        PAVÓN|CA Boca Juniors (...|   169|  65|\n",
      "|Argentina|    15|     MF|    LANZINI Manuel|15.02.1993|      LANZINI|West Ham United F...|   167|  66|\n",
      "|Argentina|    18|     DF|    SALVIO Eduardo|13.07.1990|       SALVIO|    SL Benfica (POR)|   167|  69|\n",
      "|Argentina|    10|     FW|      MESSI Lionel|24.06.1987|        MESSI|  FC Barcelona (ESP)|   170|  72|\n",
      "+---------+------+-------+------------------+----------+-------------+--------------------+------+----+\n",
      "only showing top 5 rows\n",
      "\n"
     ]
    }
   ],
   "source": [
    "df.show(5)"
   ]
  },
  {
   "cell_type": "markdown",
   "id": "01181868",
   "metadata": {},
   "source": [
    "##### Filtrar DF"
   ]
  },
  {
   "cell_type": "code",
   "execution_count": 24,
   "id": "13df6520",
   "metadata": {},
   "outputs": [
    {
     "name": "stdout",
     "output_type": "stream",
     "text": [
      "+-------+------+-------+-----------------+----------+-------------+--------------------+------+----+\n",
      "|Selecao|Numero|Posicao|        Nome_FIFA|Nascimento|Nome Camiseta|                Time|Altura|Peso|\n",
      "+-------+------+-------+-----------------+----------+-------------+--------------------+------+----+\n",
      "| Brazil|    18|     MF|             FRED|05.03.1993|         FRED|FC Shakhtar Donet...|   169|  64|\n",
      "| Brazil|    21|     FW|           TAISON|13.01.1988|       TAISON|FC Shakhtar Donet...|   172|  64|\n",
      "| Brazil|    17|     MF|      FERNANDINHO|04.05.1985|  FERNANDINHO|Manchester City F...|   179|  67|\n",
      "| Brazil|    22|     DF|           FAGNER|11.06.1989|       FAGNER|SC Corinthians (BRA)|   168|  67|\n",
      "| Brazil|    10|     FW|           NEYMAR|05.02.1992|    NEYMAR JR|Paris Saint-Germa...|   175|  68|\n",
      "| Brazil|    11|     MF|PHILIPPE COUTINHO|12.06.1992|  P. COUTINHO|  FC Barcelona (ESP)|   172|  68|\n",
      "| Brazil|     7|     FW|    DOUGLAS COSTA|14.09.1990|     D. COSTA|   Juventus FC (ITA)|   182|  70|\n",
      "| Brazil|     6|     DF|      FILIPE LUIS|09.08.1985|  FILIPE LUIS|Atletico Madrid (...|   182|  73|\n",
      "| Brazil|     9|     FW|    GABRIEL JESUS|03.04.1997|     G. JESUS|Manchester City F...|   175|  73|\n",
      "| Brazil|    13|     DF|       MARQUINHOS|14.05.1994|   MARQUINHOS|Paris Saint-Germa...|   183|  75|\n",
      "+-------+------+-------+-----------------+----------+-------------+--------------------+------+----+\n",
      "only showing top 10 rows\n",
      "\n"
     ]
    }
   ],
   "source": [
    "df.filter('Selecao = \"Brazil\"').show(10)"
   ]
  },
  {
   "cell_type": "code",
   "execution_count": 47,
   "id": "b505b97c",
   "metadata": {},
   "outputs": [
    {
     "name": "stdout",
     "output_type": "stream",
     "text": [
      "+-------+------+-------+---------+----------+-------------+--------------------+------+----+\n",
      "|Selecao|Numero|Posicao|Nome_FIFA|Nascimento|Nome Camiseta|                Time|Altura|Peso|\n",
      "+-------+------+-------+---------+----------+-------------+--------------------+------+----+\n",
      "| Brazil|    18|     MF|     FRED|05.03.1993|         FRED|FC Shakhtar Donet...|   169|  64|\n",
      "+-------+------+-------+---------+----------+-------------+--------------------+------+----+\n",
      "\n"
     ]
    }
   ],
   "source": [
    "df.filter(col(\"Nome Camiseta\") == \"FRED\").show()"
   ]
  },
  {
   "cell_type": "markdown",
   "id": "2f771dfb",
   "metadata": {},
   "source": [
    "##### Filtrar DF com 2 condições (AND / &)"
   ]
  },
  {
   "cell_type": "code",
   "execution_count": 48,
   "id": "505e586c",
   "metadata": {},
   "outputs": [
    {
     "name": "stdout",
     "output_type": "stream",
     "text": [
      "+---------+------+-------+------------------+----------+-------------+--------------------+------+----+\n",
      "|  Selecao|Numero|Posicao|         Nome_FIFA|Nascimento|Nome Camiseta|                Time|Altura|Peso|\n",
      "+---------+------+-------+------------------+----------+-------------+--------------------+------+----+\n",
      "|Argentina|     3|     DF|TAGLIAFICO Nicolas|31.08.1992|   TAGLIAFICO|      AFC Ajax (NED)|   169|  65|\n",
      "|Argentina|    22|     MF|    PAVON Cristian|21.01.1996|        PAVÓN|CA Boca Juniors (...|   169|  65|\n",
      "|Argentina|    15|     MF|    LANZINI Manuel|15.02.1993|      LANZINI|West Ham United F...|   167|  66|\n",
      "|Argentina|    18|     DF|    SALVIO Eduardo|13.07.1990|       SALVIO|    SL Benfica (POR)|   167|  69|\n",
      "|Argentina|    10|     FW|      MESSI Lionel|24.06.1987|        MESSI|  FC Barcelona (ESP)|   170|  72|\n",
      "+---------+------+-------+------------------+----------+-------------+--------------------+------+----+\n",
      "only showing top 5 rows\n",
      "\n"
     ]
    }
   ],
   "source": [
    "df.show(5)"
   ]
  },
  {
   "cell_type": "code",
   "execution_count": 52,
   "id": "6e4ee638",
   "metadata": {},
   "outputs": [
    {
     "name": "stdout",
     "output_type": "stream",
     "text": [
      "+---------+------+-------+--------------+----------+-------------+--------------------+------+----+\n",
      "|  Selecao|Numero|Posicao|     Nome_FIFA|Nascimento|Nome Camiseta|                Time|Altura|Peso|\n",
      "+---------+------+-------+--------------+----------+-------------+--------------------+------+----+\n",
      "|Argentina|     6|     DF|FAZIO Federico|17.03.1987|        FAZIO|       AS Roma (ITA)|   199|  85|\n",
      "|Argentina|    12|     GK| ARMANI Franco|16.10.1986|       ARMANI|CA River Plate (ARG)|   189|  85|\n",
      "|Argentina|     1|     GK| GUZMAN Nahuel|10.02.1986|       GUZMÁN|   Tigres UANL (MEX)|   192|  90|\n",
      "+---------+------+-------+--------------+----------+-------------+--------------------+------+----+\n",
      "\n"
     ]
    }
   ],
   "source": [
    "df.filter((col('Selecao') == \"Argentina\") & (col('Altura') > 180) & (col('Peso') >= 85)).show()"
   ]
  },
  {
   "cell_type": "code",
   "execution_count": 53,
   "id": "2967e60a",
   "metadata": {},
   "outputs": [
    {
     "name": "stdout",
     "output_type": "stream",
     "text": [
      "+-------+------+-------+---------+----------+-------------+--------------------+------+----+\n",
      "|Selecao|Numero|Posicao|Nome_FIFA|Nascimento|Nome Camiseta|                Time|Altura|Peso|\n",
      "+-------+------+-------+---------+----------+-------------+--------------------+------+----+\n",
      "| Brazil|    21|     FW|   TAISON|13.01.1988|       TAISON|FC Shakhtar Donet...|   172|  64|\n",
      "| Brazil|    22|     DF|   FAGNER|11.06.1989|       FAGNER|SC Corinthians (BRA)|   168|  67|\n",
      "| Brazil|    23|     GK|  EDERSON|17.08.1993|      EDERSON|Manchester City F...|   188|  86|\n",
      "+-------+------+-------+---------+----------+-------------+--------------------+------+----+\n",
      "\n"
     ]
    }
   ],
   "source": [
    "df.filter('Selecao = \"Brazil\"').filter(col('Numero') > 20).show(5)"
   ]
  },
  {
   "cell_type": "markdown",
   "id": "ddadf23d",
   "metadata": {},
   "source": [
    "##### Filtrar DF com 2 condições (OR / |)"
   ]
  },
  {
   "cell_type": "code",
   "execution_count": 29,
   "id": "3c79b14f",
   "metadata": {},
   "outputs": [
    {
     "name": "stdout",
     "output_type": "stream",
     "text": [
      "+---------+------+-------+----------------+----------+-------------+------------------+------+----+\n",
      "|  Selecao|Numero|Posicao|       Nome_FIFA|Nascimento|Nome Camiseta|              Time|Altura|Peso|\n",
      "+---------+------+-------+----------------+----------+-------------+------------------+------+----+\n",
      "|Argentina|    18|     DF|  SALVIO Eduardo|13.07.1990|       SALVIO|  SL Benfica (POR)|   167|  69|\n",
      "|Argentina|    10|     FW|    MESSI Lionel|24.06.1987|        MESSI|FC Barcelona (ESP)|   170|  72|\n",
      "|Argentina|     6|     DF|  FAZIO Federico|17.03.1987|        FAZIO|     AS Roma (ITA)|   199|  85|\n",
      "|  Belgium|     1|     GK|COURTOIS Thibaut|11.05.1992|     COURTOIS|  Chelsea FC (ENG)|   199|  91|\n",
      "+---------+------+-------+----------------+----------+-------------+------------------+------+----+\n",
      "\n"
     ]
    }
   ],
   "source": [
    "df.filter((col('Nome_FIFA') == 'MESSI Lionel') | (col('Nome_FIFA') == 'SALVIO Eduardo') | (col('Altura') == 199)).show(5)"
   ]
  },
  {
   "cell_type": "markdown",
   "id": "15acc5c6",
   "metadata": {},
   "source": [
    "##### Filtrar DF combinando & e | (And e OR)"
   ]
  },
  {
   "cell_type": "code",
   "execution_count": 56,
   "id": "f93c257a",
   "metadata": {
    "scrolled": true
   },
   "outputs": [
    {
     "name": "stdout",
     "output_type": "stream",
     "text": [
      "+-------+------+-------+----------------+----------+-------------+--------------------+------+----+\n",
      "|Selecao|Numero|Posicao|       Nome_FIFA|Nascimento|Nome Camiseta|                Time|Altura|Peso|\n",
      "+-------+------+-------+----------------+----------+-------------+--------------------+------+----+\n",
      "|Belgium|     1|     GK|COURTOIS Thibaut|11.05.1992|     COURTOIS|    Chelsea FC (ENG)|   199|  91|\n",
      "| Brazil|    22|     DF|          FAGNER|11.06.1989|       FAGNER|SC Corinthians (BRA)|   168|  67|\n",
      "| Brazil|     6|     DF|     FILIPE LUIS|09.08.1985|  FILIPE LUIS|Atletico Madrid (...|   182|  73|\n",
      "| Brazil|    13|     DF|      MARQUINHOS|14.05.1994|   MARQUINHOS|Paris Saint-Germa...|   183|  75|\n",
      "| Brazil|     3|     DF|         MIRANDA|07.09.1984|      MIRANDA|FC Internazionale...|   186|  78|\n",
      "| Brazil|    14|     DF|          DANILO|15.07.1991|       DANILO|Manchester City F...|   184|  78|\n",
      "| Brazil|     2|     DF|    THIAGO SILVA|22.09.1984|     T. SILVA|Paris Saint-Germa...|   183|  79|\n",
      "| Brazil|    12|     DF|         MARCELO|12.05.1988|      MARCELO|Real Madrid CF (ESP)|   174|  80|\n",
      "| Brazil|     4|     DF|   PEDRO GEROMEL|21.09.1985|      GEROMEL|   Grêmio FBPA (BRA)|   190|  84|\n",
      "+-------+------+-------+----------------+----------+-------------+--------------------+------+----+\n",
      "\n"
     ]
    }
   ],
   "source": [
    "df.filter((col('Selecao') == \"Brazil\") & (col('Posicao') == 'DF') | (col('Altura') == 199) & (col('Selecao') == 'Belgium')).show()"
   ]
  },
  {
   "cell_type": "markdown",
   "id": "3790ec6d",
   "metadata": {},
   "source": [
    "##### Criar novas colunas (usando função lit)"
   ]
  },
  {
   "cell_type": "code",
   "execution_count": 64,
   "id": "cc901429",
   "metadata": {},
   "outputs": [
    {
     "name": "stdout",
     "output_type": "stream",
     "text": [
      "+---------+------+-------+------------------+----------+-------------+--------------------+------+----+-----------+\n",
      "|  Selecao|Numero|Posicao|         Nome_FIFA|Nascimento|Nome Camiseta|                Time|Altura|Peso|coluna_nova|\n",
      "+---------+------+-------+------------------+----------+-------------+--------------------+------+----+-----------+\n",
      "|Argentina|     3|     DF|TAGLIAFICO Nicolas|31.08.1992|   TAGLIAFICO|      AFC Ajax (NED)|   169|  65|        104|\n",
      "|Argentina|    22|     MF|    PAVON Cristian|21.01.1996|        PAVÓN|CA Boca Juniors (...|   169|  65|        104|\n",
      "|Argentina|    15|     MF|    LANZINI Manuel|15.02.1993|      LANZINI|West Ham United F...|   167|  66|        101|\n",
      "|Argentina|    18|     DF|    SALVIO Eduardo|13.07.1990|       SALVIO|    SL Benfica (POR)|   167|  69|         98|\n",
      "|Argentina|    10|     FW|      MESSI Lionel|24.06.1987|        MESSI|  FC Barcelona (ESP)|   170|  72|         98|\n",
      "+---------+------+-------+------------------+----------+-------------+--------------------+------+----+-----------+\n",
      "only showing top 5 rows\n",
      "\n"
     ]
    }
   ],
   "source": [
    "df.withColumn('coluna_nova', lit(col('Altura') - col('Peso'))).show(5)"
   ]
  },
  {
   "cell_type": "markdown",
   "id": "37ac569d",
   "metadata": {},
   "source": [
    "##### Criar coluna condicional (usando função substring)"
   ]
  },
  {
   "cell_type": "code",
   "execution_count": 66,
   "id": "c7f8e583",
   "metadata": {},
   "outputs": [
    {
     "name": "stdout",
     "output_type": "stream",
     "text": [
      "+---------+------+-------+------------------+----------+-------------+--------------------+------+----+---+\n",
      "|  Selecao|Numero|Posicao|         Nome_FIFA|Nascimento|Nome Camiseta|                Time|Altura|Peso|Sub|\n",
      "+---------+------+-------+------------------+----------+-------------+--------------------+------+----+---+\n",
      "|Argentina|     3|     DF|TAGLIAFICO Nicolas|31.08.1992|   TAGLIAFICO|      AFC Ajax (NED)|   169|  65|Arg|\n",
      "|Argentina|    22|     MF|    PAVON Cristian|21.01.1996|        PAVÓN|CA Boca Juniors (...|   169|  65|Arg|\n",
      "|Argentina|    15|     MF|    LANZINI Manuel|15.02.1993|      LANZINI|West Ham United F...|   167|  66|Arg|\n",
      "|Argentina|    18|     DF|    SALVIO Eduardo|13.07.1990|       SALVIO|    SL Benfica (POR)|   167|  69|Arg|\n",
      "|Argentina|    10|     FW|      MESSI Lionel|24.06.1987|        MESSI|  FC Barcelona (ESP)|   170|  72|Arg|\n",
      "+---------+------+-------+------------------+----------+-------------+--------------------+------+----+---+\n",
      "only showing top 5 rows\n",
      "\n"
     ]
    }
   ],
   "source": [
    "df.withColumn('Sub', substring('Selecao', 1, 3)).show(5)"
   ]
  },
  {
   "cell_type": "code",
   "execution_count": 67,
   "id": "973a4e62",
   "metadata": {},
   "outputs": [
    {
     "name": "stdout",
     "output_type": "stream",
     "text": [
      "+---------+------+-------+------------------+----------+-------------+--------------------+------+----+\n",
      "|  Selecao|Numero|Posicao|         Nome_FIFA|Nascimento|Nome Camiseta|                Time|Altura|Peso|\n",
      "+---------+------+-------+------------------+----------+-------------+--------------------+------+----+\n",
      "|Argentina|     3|     DF|TAGLIAFICO Nicolas|31.08.1992|   TAGLIAFICO|      AFC Ajax (NED)|   169|  65|\n",
      "|Argentina|    22|     MF|    PAVON Cristian|21.01.1996|        PAVÓN|CA Boca Juniors (...|   169|  65|\n",
      "|Argentina|    15|     MF|    LANZINI Manuel|15.02.1993|      LANZINI|West Ham United F...|   167|  66|\n",
      "|Argentina|    18|     DF|    SALVIO Eduardo|13.07.1990|       SALVIO|    SL Benfica (POR)|   167|  69|\n",
      "|Argentina|    10|     FW|      MESSI Lionel|24.06.1987|        MESSI|  FC Barcelona (ESP)|   170|  72|\n",
      "|Argentina|     4|     DF|  ANSALDI Cristian|20.09.1986|      ANSALDI|     Torino FC (ITA)|   181|  73|\n",
      "|Argentina|     5|     MF|      BIGLIA Lucas|30.01.1986|       BIGLIA|      AC Milan (ITA)|   175|  73|\n",
      "|Argentina|     7|     MF|       BANEGA Ever|29.06.1988|       BANEGA|    Sevilla FC (ESP)|   175|  73|\n",
      "|Argentina|    14|     DF| MASCHERANO Javier|08.06.1984|   MASCHERANO|Hebei China Fortu...|   174|  73|\n",
      "|Argentina|    21|     FW|      DYBALA Paulo|15.11.1993|       DYBALA|   Juventus FC (ITA)|   177|  73|\n",
      "|Argentina|    19|     FW|     AGUERO Sergio|02.06.1988|       AGÜERO|Manchester City F...|   172|  74|\n",
      "|Argentina|     9|     FW|   HIGUAIN Gonzalo|10.12.1987|      HIGUAÍN|   Juventus FC (ITA)|   184|  75|\n",
      "|Argentina|    11|     MF|    DI MARIA Angel|14.02.1988|     DI MARÍA|Paris Saint-Germa...|   178|  75|\n",
      "|Argentina|    20|     MF|  LO CELSO Giovani|09.04.1996|     LO CELSO|Paris Saint-Germa...|   177|  75|\n",
      "|Argentina|    13|     MF|  MEZA Maximiliano|15.12.1992|         MEZA|CA Independiente ...|   180|  76|\n",
      "|Argentina|     8|     DF|      ACUNA Marcos|28.10.1991|        ACUÑA|   Sporting CP (POR)|   172|  77|\n",
      "|Argentina|    23|     GK|CABALLERO Wilfredo|28.09.1981|    CABALLERO|    Chelsea FC (ENG)|   186|  80|\n",
      "|Argentina|     2|     DF|   MERCADO Gabriel|18.03.1987|      MERCADO|    Sevilla FC (ESP)|   181|  81|\n",
      "|Argentina|    17|     DF|  OTAMENDI Nicolas|12.02.1988|     OTAMENDI|Manchester City F...|   181|  81|\n",
      "|Argentina|    16|     DF|       ROJO Marcos|20.03.1990|         ROJO|Manchester United...|   189|  82|\n",
      "+---------+------+-------+------------------+----------+-------------+--------------------+------+----+\n",
      "only showing top 20 rows\n",
      "\n"
     ]
    }
   ],
   "source": [
    "df.show()"
   ]
  },
  {
   "cell_type": "code",
   "execution_count": 68,
   "id": "d9be0394",
   "metadata": {},
   "outputs": [],
   "source": [
    "df = df.withColumn('Ano', substring('Nascimento', -4, 4))"
   ]
  },
  {
   "cell_type": "code",
   "execution_count": 35,
   "id": "95e89064",
   "metadata": {},
   "outputs": [
    {
     "name": "stdout",
     "output_type": "stream",
     "text": [
      "+---------+------+-------+------------------+----------+-------------+--------------------+------+----+----+\n",
      "|  Selecao|Numero|Posicao|         Nome_FIFA|Nascimento|Nome Camiseta|                Time|Altura|Peso| Ano|\n",
      "+---------+------+-------+------------------+----------+-------------+--------------------+------+----+----+\n",
      "|Argentina|     3|     DF|TAGLIAFICO Nicolas|31.08.1992|   TAGLIAFICO|      AFC Ajax (NED)|   169|  65|1992|\n",
      "|Argentina|    22|     MF|    PAVON Cristian|21.01.1996|        PAVÓN|CA Boca Juniors (...|   169|  65|1996|\n",
      "|Argentina|    15|     MF|    LANZINI Manuel|15.02.1993|      LANZINI|West Ham United F...|   167|  66|1993|\n",
      "|Argentina|    18|     DF|    SALVIO Eduardo|13.07.1990|       SALVIO|    SL Benfica (POR)|   167|  69|1990|\n",
      "|Argentina|    10|     FW|      MESSI Lionel|24.06.1987|        MESSI|  FC Barcelona (ESP)|   170|  72|1987|\n",
      "+---------+------+-------+------------------+----------+-------------+--------------------+------+----+----+\n",
      "only showing top 5 rows\n",
      "\n"
     ]
    }
   ],
   "source": [
    "df.show(5)"
   ]
  },
  {
   "cell_type": "markdown",
   "id": "9d982126",
   "metadata": {},
   "source": [
    "##### Criar coluna condicional (concat / concat_ws)"
   ]
  },
  {
   "cell_type": "code",
   "execution_count": 69,
   "id": "bc17a0d7",
   "metadata": {
    "scrolled": true
   },
   "outputs": [
    {
     "name": "stdout",
     "output_type": "stream",
     "text": [
      "+---------+------+-------+------------------+----------+-------------+--------------------+------+----+----+-------------------+\n",
      "|  Selecao|Numero|Posicao|         Nome_FIFA|Nascimento|Nome Camiseta|                Time|Altura|Peso| Ano|             Concat|\n",
      "+---------+------+-------+------------------+----------+-------------+--------------------+------+----+----+-------------------+\n",
      "|Argentina|     3|     DF|TAGLIAFICO Nicolas|31.08.1992|   TAGLIAFICO|      AFC Ajax (NED)|   169|  65|1992|ArgentinaTAGLIAFICO|\n",
      "|Argentina|    22|     MF|    PAVON Cristian|21.01.1996|        PAVÓN|CA Boca Juniors (...|   169|  65|1996|     ArgentinaPAVÓN|\n",
      "|Argentina|    15|     MF|    LANZINI Manuel|15.02.1993|      LANZINI|West Ham United F...|   167|  66|1993|   ArgentinaLANZINI|\n",
      "|Argentina|    18|     DF|    SALVIO Eduardo|13.07.1990|       SALVIO|    SL Benfica (POR)|   167|  69|1990|    ArgentinaSALVIO|\n",
      "|Argentina|    10|     FW|      MESSI Lionel|24.06.1987|        MESSI|  FC Barcelona (ESP)|   170|  72|1987|     ArgentinaMESSI|\n",
      "+---------+------+-------+------------------+----------+-------------+--------------------+------+----+----+-------------------+\n",
      "only showing top 5 rows\n",
      "\n"
     ]
    }
   ],
   "source": [
    "df.withColumn('Concat', concat('Selecao', col('Nome Camiseta'))).show(5)"
   ]
  },
  {
   "cell_type": "code",
   "execution_count": 70,
   "id": "e71eea32",
   "metadata": {
    "scrolled": true
   },
   "outputs": [
    {
     "name": "stdout",
     "output_type": "stream",
     "text": [
      "+---------+------+-------+------------------+----------+-------------+--------------------+------+----+----+-------------------+\n",
      "|  Selecao|Numero|Posicao|         Nome_FIFA|Nascimento|Nome Camiseta|                Time|Altura|Peso| Ano|          Separador|\n",
      "+---------+------+-------+------------------+----------+-------------+--------------------+------+----+----+-------------------+\n",
      "|Argentina|     3|     DF|TAGLIAFICO Nicolas|31.08.1992|   TAGLIAFICO|      AFC Ajax (NED)|   169|  65|1992| Argentina - 3 - DF|\n",
      "|Argentina|    22|     MF|    PAVON Cristian|21.01.1996|        PAVÓN|CA Boca Juniors (...|   169|  65|1996|Argentina - 22 - MF|\n",
      "|Argentina|    15|     MF|    LANZINI Manuel|15.02.1993|      LANZINI|West Ham United F...|   167|  66|1993|Argentina - 15 - MF|\n",
      "|Argentina|    18|     DF|    SALVIO Eduardo|13.07.1990|       SALVIO|    SL Benfica (POR)|   167|  69|1990|Argentina - 18 - DF|\n",
      "|Argentina|    10|     FW|      MESSI Lionel|24.06.1987|        MESSI|  FC Barcelona (ESP)|   170|  72|1987|Argentina - 10 - FW|\n",
      "+---------+------+-------+------------------+----------+-------------+--------------------+------+----+----+-------------------+\n",
      "only showing top 5 rows\n",
      "\n"
     ]
    }
   ],
   "source": [
    "df.withColumn('Separador', concat_ws(' - ', 'Selecao', 'Numero', 'Posicao')).show(5)"
   ]
  },
  {
   "cell_type": "markdown",
   "id": "2a3de4ea",
   "metadata": {},
   "source": [
    "##### Alterar tipo de coluna"
   ]
  },
  {
   "cell_type": "code",
   "execution_count": 38,
   "id": "ffae8f1f",
   "metadata": {
    "scrolled": true
   },
   "outputs": [
    {
     "name": "stdout",
     "output_type": "stream",
     "text": [
      "+---------+------+-------+------------------+----------+-------------+--------------------+------+----+----+\n",
      "|  Selecao|Numero|Posicao|         Nome_FIFA|Nascimento|Nome Camiseta|                Time|Altura|Peso| Ano|\n",
      "+---------+------+-------+------------------+----------+-------------+--------------------+------+----+----+\n",
      "|Argentina|     3|     DF|TAGLIAFICO Nicolas|31.08.1992|   TAGLIAFICO|      AFC Ajax (NED)|   169|  65|1992|\n",
      "|Argentina|    22|     MF|    PAVON Cristian|21.01.1996|        PAVÓN|CA Boca Juniors (...|   169|  65|1996|\n",
      "|Argentina|    15|     MF|    LANZINI Manuel|15.02.1993|      LANZINI|West Ham United F...|   167|  66|1993|\n",
      "|Argentina|    18|     DF|    SALVIO Eduardo|13.07.1990|       SALVIO|    SL Benfica (POR)|   167|  69|1990|\n",
      "|Argentina|    10|     FW|      MESSI Lionel|24.06.1987|        MESSI|  FC Barcelona (ESP)|   170|  72|1987|\n",
      "+---------+------+-------+------------------+----------+-------------+--------------------+------+----+----+\n",
      "only showing top 5 rows\n",
      "\n"
     ]
    }
   ],
   "source": [
    "df.show(5)"
   ]
  },
  {
   "cell_type": "code",
   "execution_count": 39,
   "id": "9879e423",
   "metadata": {},
   "outputs": [
    {
     "name": "stdout",
     "output_type": "stream",
     "text": [
      "root\n",
      " |-- Selecao: string (nullable = true)\n",
      " |-- Numero: integer (nullable = true)\n",
      " |-- Posicao: string (nullable = true)\n",
      " |-- Nome_FIFA: string (nullable = true)\n",
      " |-- Nascimento: string (nullable = true)\n",
      " |-- Nome Camiseta: string (nullable = true)\n",
      " |-- Time: string (nullable = true)\n",
      " |-- Altura: integer (nullable = true)\n",
      " |-- Peso: integer (nullable = true)\n",
      " |-- Ano: string (nullable = true)\n",
      "\n"
     ]
    }
   ],
   "source": [
    "df.printSchema()"
   ]
  },
  {
   "cell_type": "code",
   "execution_count": 40,
   "id": "ae7392fc",
   "metadata": {
    "scrolled": true
   },
   "outputs": [],
   "source": [
    "df = df.withColumn('Ano', col('Ano').cast(IntegerType()))"
   ]
  },
  {
   "cell_type": "code",
   "execution_count": 41,
   "id": "c8c60fbb",
   "metadata": {},
   "outputs": [
    {
     "name": "stdout",
     "output_type": "stream",
     "text": [
      "root\n",
      " |-- Selecao: string (nullable = true)\n",
      " |-- Numero: integer (nullable = true)\n",
      " |-- Posicao: string (nullable = true)\n",
      " |-- Nome_FIFA: string (nullable = true)\n",
      " |-- Nascimento: string (nullable = true)\n",
      " |-- Nome Camiseta: string (nullable = true)\n",
      " |-- Time: string (nullable = true)\n",
      " |-- Altura: integer (nullable = true)\n",
      " |-- Peso: integer (nullable = true)\n",
      " |-- Ano: integer (nullable = true)\n",
      "\n"
     ]
    }
   ],
   "source": [
    "df.printSchema()"
   ]
  },
  {
   "cell_type": "markdown",
   "id": "c2028bbd",
   "metadata": {},
   "source": [
    "### Desafio: Coluna Nascimento\n",
    "\n",
    "- Colocar como DateType\n",
    "\n",
    "- Dica:\n",
    "- O Formato precisa estar em: YYYY-MM-DD"
   ]
  },
  {
   "cell_type": "code",
   "execution_count": 71,
   "id": "797854f6",
   "metadata": {},
   "outputs": [
    {
     "name": "stdout",
     "output_type": "stream",
     "text": [
      "+---------+------+-------+------------------+----------+-------------+--------------------+------+----+----+\n",
      "|  Selecao|Numero|Posicao|         Nome_FIFA|Nascimento|Nome Camiseta|                Time|Altura|Peso| Ano|\n",
      "+---------+------+-------+------------------+----------+-------------+--------------------+------+----+----+\n",
      "|Argentina|     3|     DF|TAGLIAFICO Nicolas|31.08.1992|   TAGLIAFICO|      AFC Ajax (NED)|   169|  65|1992|\n",
      "|Argentina|    22|     MF|    PAVON Cristian|21.01.1996|        PAVÓN|CA Boca Juniors (...|   169|  65|1996|\n",
      "|Argentina|    15|     MF|    LANZINI Manuel|15.02.1993|      LANZINI|West Ham United F...|   167|  66|1993|\n",
      "|Argentina|    18|     DF|    SALVIO Eduardo|13.07.1990|       SALVIO|    SL Benfica (POR)|   167|  69|1990|\n",
      "|Argentina|    10|     FW|      MESSI Lionel|24.06.1987|        MESSI|  FC Barcelona (ESP)|   170|  72|1987|\n",
      "+---------+------+-------+------------------+----------+-------------+--------------------+------+----+----+\n",
      "only showing top 5 rows\n",
      "\n"
     ]
    }
   ],
   "source": [
    "df.show(5)"
   ]
  },
  {
   "cell_type": "code",
   "execution_count": 72,
   "id": "b1ef20e0",
   "metadata": {},
   "outputs": [],
   "source": [
    "dia = udf(lambda data: data.split('.')[0])"
   ]
  },
  {
   "cell_type": "code",
   "execution_count": 73,
   "id": "84eca5f8",
   "metadata": {},
   "outputs": [],
   "source": [
    "df = df.withColumn('Dia', dia('Nascimento'))"
   ]
  },
  {
   "cell_type": "code",
   "execution_count": 74,
   "id": "2805fe80",
   "metadata": {},
   "outputs": [
    {
     "name": "stdout",
     "output_type": "stream",
     "text": [
      "+---------+------+-------+------------------+----------+-------------+--------------------+------+----+----+---+\n",
      "|  Selecao|Numero|Posicao|         Nome_FIFA|Nascimento|Nome Camiseta|                Time|Altura|Peso| Ano|Dia|\n",
      "+---------+------+-------+------------------+----------+-------------+--------------------+------+----+----+---+\n",
      "|Argentina|     3|     DF|TAGLIAFICO Nicolas|31.08.1992|   TAGLIAFICO|      AFC Ajax (NED)|   169|  65|1992| 31|\n",
      "|Argentina|    22|     MF|    PAVON Cristian|21.01.1996|        PAVÓN|CA Boca Juniors (...|   169|  65|1996| 21|\n",
      "|Argentina|    15|     MF|    LANZINI Manuel|15.02.1993|      LANZINI|West Ham United F...|   167|  66|1993| 15|\n",
      "|Argentina|    18|     DF|    SALVIO Eduardo|13.07.1990|       SALVIO|    SL Benfica (POR)|   167|  69|1990| 13|\n",
      "|Argentina|    10|     FW|      MESSI Lionel|24.06.1987|        MESSI|  FC Barcelona (ESP)|   170|  72|1987| 24|\n",
      "+---------+------+-------+------------------+----------+-------------+--------------------+------+----+----+---+\n",
      "only showing top 5 rows\n",
      "\n"
     ]
    }
   ],
   "source": [
    "df.show(5)"
   ]
  },
  {
   "cell_type": "code",
   "execution_count": 75,
   "id": "1b68ff5f",
   "metadata": {},
   "outputs": [
    {
     "name": "stdout",
     "output_type": "stream",
     "text": [
      "+---------+------+-------+------------------+----------+-------------+--------------------+------+----+----+---+---+\n",
      "|  Selecao|Numero|Posicao|         Nome_FIFA|Nascimento|Nome Camiseta|                Time|Altura|Peso| Ano|Dia|Mes|\n",
      "+---------+------+-------+------------------+----------+-------------+--------------------+------+----+----+---+---+\n",
      "|Argentina|     3|     DF|TAGLIAFICO Nicolas|31.08.1992|   TAGLIAFICO|      AFC Ajax (NED)|   169|  65|1992| 31| 08|\n",
      "|Argentina|    22|     MF|    PAVON Cristian|21.01.1996|        PAVÓN|CA Boca Juniors (...|   169|  65|1996| 21| 01|\n",
      "|Argentina|    15|     MF|    LANZINI Manuel|15.02.1993|      LANZINI|West Ham United F...|   167|  66|1993| 15| 02|\n",
      "|Argentina|    18|     DF|    SALVIO Eduardo|13.07.1990|       SALVIO|    SL Benfica (POR)|   167|  69|1990| 13| 07|\n",
      "|Argentina|    10|     FW|      MESSI Lionel|24.06.1987|        MESSI|  FC Barcelona (ESP)|   170|  72|1987| 24| 06|\n",
      "|Argentina|     4|     DF|  ANSALDI Cristian|20.09.1986|      ANSALDI|     Torino FC (ITA)|   181|  73|1986| 20| 09|\n",
      "|Argentina|     5|     MF|      BIGLIA Lucas|30.01.1986|       BIGLIA|      AC Milan (ITA)|   175|  73|1986| 30| 01|\n",
      "|Argentina|     7|     MF|       BANEGA Ever|29.06.1988|       BANEGA|    Sevilla FC (ESP)|   175|  73|1988| 29| 06|\n",
      "|Argentina|    14|     DF| MASCHERANO Javier|08.06.1984|   MASCHERANO|Hebei China Fortu...|   174|  73|1984| 08| 06|\n",
      "|Argentina|    21|     FW|      DYBALA Paulo|15.11.1993|       DYBALA|   Juventus FC (ITA)|   177|  73|1993| 15| 11|\n",
      "|Argentina|    19|     FW|     AGUERO Sergio|02.06.1988|       AGÜERO|Manchester City F...|   172|  74|1988| 02| 06|\n",
      "|Argentina|     9|     FW|   HIGUAIN Gonzalo|10.12.1987|      HIGUAÍN|   Juventus FC (ITA)|   184|  75|1987| 10| 12|\n",
      "|Argentina|    11|     MF|    DI MARIA Angel|14.02.1988|     DI MARÍA|Paris Saint-Germa...|   178|  75|1988| 14| 02|\n",
      "|Argentina|    20|     MF|  LO CELSO Giovani|09.04.1996|     LO CELSO|Paris Saint-Germa...|   177|  75|1996| 09| 04|\n",
      "|Argentina|    13|     MF|  MEZA Maximiliano|15.12.1992|         MEZA|CA Independiente ...|   180|  76|1992| 15| 12|\n",
      "|Argentina|     8|     DF|      ACUNA Marcos|28.10.1991|        ACUÑA|   Sporting CP (POR)|   172|  77|1991| 28| 10|\n",
      "|Argentina|    23|     GK|CABALLERO Wilfredo|28.09.1981|    CABALLERO|    Chelsea FC (ENG)|   186|  80|1981| 28| 09|\n",
      "|Argentina|     2|     DF|   MERCADO Gabriel|18.03.1987|      MERCADO|    Sevilla FC (ESP)|   181|  81|1987| 18| 03|\n",
      "|Argentina|    17|     DF|  OTAMENDI Nicolas|12.02.1988|     OTAMENDI|Manchester City F...|   181|  81|1988| 12| 02|\n",
      "|Argentina|    16|     DF|       ROJO Marcos|20.03.1990|         ROJO|Manchester United...|   189|  82|1990| 20| 03|\n",
      "+---------+------+-------+------------------+----------+-------------+--------------------+------+----+----+---+---+\n",
      "only showing top 20 rows\n",
      "\n"
     ]
    }
   ],
   "source": [
    "mes = udf(lambda data: data.split('.')[1])\n",
    "\n",
    "df.withColumn('Mes', mes('Nascimento')).show()"
   ]
  },
  {
   "cell_type": "code",
   "execution_count": 76,
   "id": "b21c398e",
   "metadata": {},
   "outputs": [
    {
     "name": "stdout",
     "output_type": "stream",
     "text": [
      "+---------+------+-------+------------------+----------+-------------+--------------------+------+----+----+---+---+\n",
      "|  Selecao|Numero|Posicao|         Nome_FIFA|Nascimento|Nome Camiseta|                Time|Altura|Peso| Ano|Dia|Mes|\n",
      "+---------+------+-------+------------------+----------+-------------+--------------------+------+----+----+---+---+\n",
      "|Argentina|     3|     DF|TAGLIAFICO Nicolas|31.08.1992|   TAGLIAFICO|      AFC Ajax (NED)|   169|  65|1992| 31| 08|\n",
      "|Argentina|    22|     MF|    PAVON Cristian|21.01.1996|        PAVÓN|CA Boca Juniors (...|   169|  65|1996| 21| 01|\n",
      "|Argentina|    15|     MF|    LANZINI Manuel|15.02.1993|      LANZINI|West Ham United F...|   167|  66|1993| 15| 02|\n",
      "|Argentina|    18|     DF|    SALVIO Eduardo|13.07.1990|       SALVIO|    SL Benfica (POR)|   167|  69|1990| 13| 07|\n",
      "|Argentina|    10|     FW|      MESSI Lionel|24.06.1987|        MESSI|  FC Barcelona (ESP)|   170|  72|1987| 24| 06|\n",
      "|Argentina|     4|     DF|  ANSALDI Cristian|20.09.1986|      ANSALDI|     Torino FC (ITA)|   181|  73|1986| 20| 09|\n",
      "|Argentina|     5|     MF|      BIGLIA Lucas|30.01.1986|       BIGLIA|      AC Milan (ITA)|   175|  73|1986| 30| 01|\n",
      "|Argentina|     7|     MF|       BANEGA Ever|29.06.1988|       BANEGA|    Sevilla FC (ESP)|   175|  73|1988| 29| 06|\n",
      "|Argentina|    14|     DF| MASCHERANO Javier|08.06.1984|   MASCHERANO|Hebei China Fortu...|   174|  73|1984| 08| 06|\n",
      "|Argentina|    21|     FW|      DYBALA Paulo|15.11.1993|       DYBALA|   Juventus FC (ITA)|   177|  73|1993| 15| 11|\n",
      "|Argentina|    19|     FW|     AGUERO Sergio|02.06.1988|       AGÜERO|Manchester City F...|   172|  74|1988| 02| 06|\n",
      "|Argentina|     9|     FW|   HIGUAIN Gonzalo|10.12.1987|      HIGUAÍN|   Juventus FC (ITA)|   184|  75|1987| 10| 12|\n",
      "|Argentina|    11|     MF|    DI MARIA Angel|14.02.1988|     DI MARÍA|Paris Saint-Germa...|   178|  75|1988| 14| 02|\n",
      "|Argentina|    20|     MF|  LO CELSO Giovani|09.04.1996|     LO CELSO|Paris Saint-Germa...|   177|  75|1996| 09| 04|\n",
      "|Argentina|    13|     MF|  MEZA Maximiliano|15.12.1992|         MEZA|CA Independiente ...|   180|  76|1992| 15| 12|\n",
      "|Argentina|     8|     DF|      ACUNA Marcos|28.10.1991|        ACUÑA|   Sporting CP (POR)|   172|  77|1991| 28| 10|\n",
      "|Argentina|    23|     GK|CABALLERO Wilfredo|28.09.1981|    CABALLERO|    Chelsea FC (ENG)|   186|  80|1981| 28| 09|\n",
      "|Argentina|     2|     DF|   MERCADO Gabriel|18.03.1987|      MERCADO|    Sevilla FC (ESP)|   181|  81|1987| 18| 03|\n",
      "|Argentina|    17|     DF|  OTAMENDI Nicolas|12.02.1988|     OTAMENDI|Manchester City F...|   181|  81|1988| 12| 02|\n",
      "|Argentina|    16|     DF|       ROJO Marcos|20.03.1990|         ROJO|Manchester United...|   189|  82|1990| 20| 03|\n",
      "+---------+------+-------+------------------+----------+-------------+--------------------+------+----+----+---+---+\n",
      "only showing top 20 rows\n",
      "\n"
     ]
    }
   ],
   "source": [
    "df = df.withColumn('Mes', mes('Nascimento'))\n",
    "\n",
    "df.show()"
   ]
  },
  {
   "cell_type": "code",
   "execution_count": 77,
   "id": "bae2063d",
   "metadata": {},
   "outputs": [
    {
     "name": "stdout",
     "output_type": "stream",
     "text": [
      "root\n",
      " |-- Selecao: string (nullable = true)\n",
      " |-- Numero: integer (nullable = true)\n",
      " |-- Posicao: string (nullable = true)\n",
      " |-- Nome_FIFA: string (nullable = true)\n",
      " |-- Nascimento: string (nullable = true)\n",
      " |-- Nome Camiseta: string (nullable = true)\n",
      " |-- Time: string (nullable = true)\n",
      " |-- Altura: integer (nullable = true)\n",
      " |-- Peso: integer (nullable = true)\n",
      " |-- Ano: string (nullable = true)\n",
      " |-- Dia: string (nullable = true)\n",
      " |-- Mes: string (nullable = true)\n",
      "\n"
     ]
    }
   ],
   "source": [
    "df.printSchema()"
   ]
  },
  {
   "cell_type": "code",
   "execution_count": 49,
   "id": "1403d047",
   "metadata": {},
   "outputs": [],
   "source": [
    "df = df.withColumn('Data_Nascimento', concat_ws('-', 'Dia', 'Mes', 'Ano'))"
   ]
  },
  {
   "cell_type": "code",
   "execution_count": 50,
   "id": "59e0643d",
   "metadata": {},
   "outputs": [
    {
     "name": "stdout",
     "output_type": "stream",
     "text": [
      "+---------+------+-------+------------------+----------+-------------+--------------------+------+----+----+---+---+---------------+\n",
      "|  Selecao|Numero|Posicao|         Nome_FIFA|Nascimento|Nome Camiseta|                Time|Altura|Peso| Ano|Dia|Mes|Data_Nascimento|\n",
      "+---------+------+-------+------------------+----------+-------------+--------------------+------+----+----+---+---+---------------+\n",
      "|Argentina|     3|     DF|TAGLIAFICO Nicolas|31.08.1992|   TAGLIAFICO|      AFC Ajax (NED)|   169|  65|1992| 31| 08|           null|\n",
      "|Argentina|    22|     MF|    PAVON Cristian|21.01.1996|        PAVÓN|CA Boca Juniors (...|   169|  65|1996| 21| 01|           null|\n",
      "|Argentina|    15|     MF|    LANZINI Manuel|15.02.1993|      LANZINI|West Ham United F...|   167|  66|1993| 15| 02|           null|\n",
      "|Argentina|    18|     DF|    SALVIO Eduardo|13.07.1990|       SALVIO|    SL Benfica (POR)|   167|  69|1990| 13| 07|           null|\n",
      "|Argentina|    10|     FW|      MESSI Lionel|24.06.1987|        MESSI|  FC Barcelona (ESP)|   170|  72|1987| 24| 06|           null|\n",
      "|Argentina|     4|     DF|  ANSALDI Cristian|20.09.1986|      ANSALDI|     Torino FC (ITA)|   181|  73|1986| 20| 09|           null|\n",
      "|Argentina|     5|     MF|      BIGLIA Lucas|30.01.1986|       BIGLIA|      AC Milan (ITA)|   175|  73|1986| 30| 01|           null|\n",
      "|Argentina|     7|     MF|       BANEGA Ever|29.06.1988|       BANEGA|    Sevilla FC (ESP)|   175|  73|1988| 29| 06|           null|\n",
      "|Argentina|    14|     DF| MASCHERANO Javier|08.06.1984|   MASCHERANO|Hebei China Fortu...|   174|  73|1984| 08| 06|           null|\n",
      "|Argentina|    21|     FW|      DYBALA Paulo|15.11.1993|       DYBALA|   Juventus FC (ITA)|   177|  73|1993| 15| 11|           null|\n",
      "|Argentina|    19|     FW|     AGUERO Sergio|02.06.1988|       AGÜERO|Manchester City F...|   172|  74|1988| 02| 06|           null|\n",
      "|Argentina|     9|     FW|   HIGUAIN Gonzalo|10.12.1987|      HIGUAÍN|   Juventus FC (ITA)|   184|  75|1987| 10| 12|           null|\n",
      "|Argentina|    11|     MF|    DI MARIA Angel|14.02.1988|     DI MARÍA|Paris Saint-Germa...|   178|  75|1988| 14| 02|           null|\n",
      "|Argentina|    20|     MF|  LO CELSO Giovani|09.04.1996|     LO CELSO|Paris Saint-Germa...|   177|  75|1996| 09| 04|           null|\n",
      "|Argentina|    13|     MF|  MEZA Maximiliano|15.12.1992|         MEZA|CA Independiente ...|   180|  76|1992| 15| 12|           null|\n",
      "|Argentina|     8|     DF|      ACUNA Marcos|28.10.1991|        ACUÑA|   Sporting CP (POR)|   172|  77|1991| 28| 10|           null|\n",
      "|Argentina|    23|     GK|CABALLERO Wilfredo|28.09.1981|    CABALLERO|    Chelsea FC (ENG)|   186|  80|1981| 28| 09|           null|\n",
      "|Argentina|     2|     DF|   MERCADO Gabriel|18.03.1987|      MERCADO|    Sevilla FC (ESP)|   181|  81|1987| 18| 03|           null|\n",
      "|Argentina|    17|     DF|  OTAMENDI Nicolas|12.02.1988|     OTAMENDI|Manchester City F...|   181|  81|1988| 12| 02|           null|\n",
      "|Argentina|    16|     DF|       ROJO Marcos|20.03.1990|         ROJO|Manchester United...|   189|  82|1990| 20| 03|           null|\n",
      "+---------+------+-------+------------------+----------+-------------+--------------------+------+----+----+---+---+---------------+\n",
      "only showing top 20 rows\n",
      "\n"
     ]
    }
   ],
   "source": [
    "df.withColumn('Data_Nascimento', col('Data_Nascimento').cast(DateType())).show()"
   ]
  },
  {
   "cell_type": "code",
   "execution_count": 82,
   "id": "c7b7b117",
   "metadata": {},
   "outputs": [],
   "source": [
    "df = df.withColumn('Data_Nascimento', concat_ws('-', 'Ano', 'Mes', 'Dia'))"
   ]
  },
  {
   "cell_type": "code",
   "execution_count": 83,
   "id": "63d80b6a",
   "metadata": {
    "scrolled": true
   },
   "outputs": [
    {
     "name": "stdout",
     "output_type": "stream",
     "text": [
      "+---------+------+-------+------------------+----------+-------------+--------------------+------+----+----+---+---+---------------+\n",
      "|  Selecao|Numero|Posicao|         Nome_FIFA|Nascimento|Nome Camiseta|                Time|Altura|Peso| Ano|Dia|Mes|Data_Nascimento|\n",
      "+---------+------+-------+------------------+----------+-------------+--------------------+------+----+----+---+---+---------------+\n",
      "|Argentina|     3|     DF|TAGLIAFICO Nicolas|31.08.1992|   TAGLIAFICO|      AFC Ajax (NED)|   169|  65|1992| 31| 08|     1992-08-31|\n",
      "|Argentina|    22|     MF|    PAVON Cristian|21.01.1996|        PAVÓN|CA Boca Juniors (...|   169|  65|1996| 21| 01|     1996-01-21|\n",
      "|Argentina|    15|     MF|    LANZINI Manuel|15.02.1993|      LANZINI|West Ham United F...|   167|  66|1993| 15| 02|     1993-02-15|\n",
      "|Argentina|    18|     DF|    SALVIO Eduardo|13.07.1990|       SALVIO|    SL Benfica (POR)|   167|  69|1990| 13| 07|     1990-07-13|\n",
      "|Argentina|    10|     FW|      MESSI Lionel|24.06.1987|        MESSI|  FC Barcelona (ESP)|   170|  72|1987| 24| 06|     1987-06-24|\n",
      "+---------+------+-------+------------------+----------+-------------+--------------------+------+----+----+---+---+---------------+\n",
      "only showing top 5 rows\n",
      "\n"
     ]
    }
   ],
   "source": [
    "df.show(5)"
   ]
  },
  {
   "cell_type": "code",
   "execution_count": 85,
   "id": "196c8acd",
   "metadata": {},
   "outputs": [
    {
     "name": "stdout",
     "output_type": "stream",
     "text": [
      "root\n",
      " |-- Selecao: string (nullable = true)\n",
      " |-- Numero: integer (nullable = true)\n",
      " |-- Posicao: string (nullable = true)\n",
      " |-- Nome_FIFA: string (nullable = true)\n",
      " |-- Nascimento: string (nullable = true)\n",
      " |-- Nome Camiseta: string (nullable = true)\n",
      " |-- Time: string (nullable = true)\n",
      " |-- Altura: integer (nullable = true)\n",
      " |-- Peso: integer (nullable = true)\n",
      " |-- Ano: string (nullable = true)\n",
      " |-- Dia: string (nullable = true)\n",
      " |-- Mes: string (nullable = true)\n",
      " |-- Data_Nascimento: string (nullable = false)\n",
      "\n"
     ]
    }
   ],
   "source": [
    "df.printSchema()"
   ]
  },
  {
   "cell_type": "code",
   "execution_count": 86,
   "id": "81aa9d34",
   "metadata": {},
   "outputs": [],
   "source": [
    "df = df.withColumn('Data_Nascimento', col('Data_Nascimento').cast(DateType()))"
   ]
  },
  {
   "cell_type": "code",
   "execution_count": 87,
   "id": "4b7ac441",
   "metadata": {},
   "outputs": [
    {
     "name": "stdout",
     "output_type": "stream",
     "text": [
      "root\n",
      " |-- Selecao: string (nullable = true)\n",
      " |-- Numero: integer (nullable = true)\n",
      " |-- Posicao: string (nullable = true)\n",
      " |-- Nome_FIFA: string (nullable = true)\n",
      " |-- Nascimento: string (nullable = true)\n",
      " |-- Nome Camiseta: string (nullable = true)\n",
      " |-- Time: string (nullable = true)\n",
      " |-- Altura: integer (nullable = true)\n",
      " |-- Peso: integer (nullable = true)\n",
      " |-- Ano: string (nullable = true)\n",
      " |-- Dia: string (nullable = true)\n",
      " |-- Mes: string (nullable = true)\n",
      " |-- Data_Nascimento: date (nullable = true)\n",
      "\n"
     ]
    }
   ],
   "source": [
    "df.printSchema()"
   ]
  },
  {
   "cell_type": "code",
   "execution_count": 88,
   "id": "98be3cdd",
   "metadata": {},
   "outputs": [
    {
     "data": {
      "text/html": [
       "<div>\n",
       "<style scoped>\n",
       "    .dataframe tbody tr th:only-of-type {\n",
       "        vertical-align: middle;\n",
       "    }\n",
       "\n",
       "    .dataframe tbody tr th {\n",
       "        vertical-align: top;\n",
       "    }\n",
       "\n",
       "    .dataframe thead th {\n",
       "        text-align: right;\n",
       "    }\n",
       "</style>\n",
       "<table border=\"1\" class=\"dataframe\">\n",
       "  <thead>\n",
       "    <tr style=\"text-align: right;\">\n",
       "      <th></th>\n",
       "      <th>Selecao</th>\n",
       "      <th>Numero</th>\n",
       "      <th>Posicao</th>\n",
       "      <th>Nome_FIFA</th>\n",
       "      <th>Nascimento</th>\n",
       "      <th>Nome Camiseta</th>\n",
       "      <th>Time</th>\n",
       "      <th>Altura</th>\n",
       "      <th>Peso</th>\n",
       "      <th>Ano</th>\n",
       "      <th>Dia</th>\n",
       "      <th>Mes</th>\n",
       "      <th>Data_Nascimento</th>\n",
       "    </tr>\n",
       "  </thead>\n",
       "  <tbody>\n",
       "    <tr>\n",
       "      <th>0</th>\n",
       "      <td>Argentina</td>\n",
       "      <td>3</td>\n",
       "      <td>DF</td>\n",
       "      <td>TAGLIAFICO Nicolas</td>\n",
       "      <td>31.08.1992</td>\n",
       "      <td>TAGLIAFICO</td>\n",
       "      <td>AFC Ajax (NED)</td>\n",
       "      <td>169</td>\n",
       "      <td>65</td>\n",
       "      <td>1992</td>\n",
       "      <td>31</td>\n",
       "      <td>08</td>\n",
       "      <td>1992-08-31</td>\n",
       "    </tr>\n",
       "    <tr>\n",
       "      <th>1</th>\n",
       "      <td>Argentina</td>\n",
       "      <td>22</td>\n",
       "      <td>MF</td>\n",
       "      <td>PAVON Cristian</td>\n",
       "      <td>21.01.1996</td>\n",
       "      <td>PAVÓN</td>\n",
       "      <td>CA Boca Juniors (ARG)</td>\n",
       "      <td>169</td>\n",
       "      <td>65</td>\n",
       "      <td>1996</td>\n",
       "      <td>21</td>\n",
       "      <td>01</td>\n",
       "      <td>1996-01-21</td>\n",
       "    </tr>\n",
       "    <tr>\n",
       "      <th>2</th>\n",
       "      <td>Argentina</td>\n",
       "      <td>15</td>\n",
       "      <td>MF</td>\n",
       "      <td>LANZINI Manuel</td>\n",
       "      <td>15.02.1993</td>\n",
       "      <td>LANZINI</td>\n",
       "      <td>West Ham United FC (ENG)</td>\n",
       "      <td>167</td>\n",
       "      <td>66</td>\n",
       "      <td>1993</td>\n",
       "      <td>15</td>\n",
       "      <td>02</td>\n",
       "      <td>1993-02-15</td>\n",
       "    </tr>\n",
       "    <tr>\n",
       "      <th>3</th>\n",
       "      <td>Argentina</td>\n",
       "      <td>18</td>\n",
       "      <td>DF</td>\n",
       "      <td>SALVIO Eduardo</td>\n",
       "      <td>13.07.1990</td>\n",
       "      <td>SALVIO</td>\n",
       "      <td>SL Benfica (POR)</td>\n",
       "      <td>167</td>\n",
       "      <td>69</td>\n",
       "      <td>1990</td>\n",
       "      <td>13</td>\n",
       "      <td>07</td>\n",
       "      <td>1990-07-13</td>\n",
       "    </tr>\n",
       "    <tr>\n",
       "      <th>4</th>\n",
       "      <td>Argentina</td>\n",
       "      <td>10</td>\n",
       "      <td>FW</td>\n",
       "      <td>MESSI Lionel</td>\n",
       "      <td>24.06.1987</td>\n",
       "      <td>MESSI</td>\n",
       "      <td>FC Barcelona (ESP)</td>\n",
       "      <td>170</td>\n",
       "      <td>72</td>\n",
       "      <td>1987</td>\n",
       "      <td>24</td>\n",
       "      <td>06</td>\n",
       "      <td>1987-06-24</td>\n",
       "    </tr>\n",
       "    <tr>\n",
       "      <th>5</th>\n",
       "      <td>Argentina</td>\n",
       "      <td>4</td>\n",
       "      <td>DF</td>\n",
       "      <td>ANSALDI Cristian</td>\n",
       "      <td>20.09.1986</td>\n",
       "      <td>ANSALDI</td>\n",
       "      <td>Torino FC (ITA)</td>\n",
       "      <td>181</td>\n",
       "      <td>73</td>\n",
       "      <td>1986</td>\n",
       "      <td>20</td>\n",
       "      <td>09</td>\n",
       "      <td>1986-09-20</td>\n",
       "    </tr>\n",
       "    <tr>\n",
       "      <th>6</th>\n",
       "      <td>Argentina</td>\n",
       "      <td>5</td>\n",
       "      <td>MF</td>\n",
       "      <td>BIGLIA Lucas</td>\n",
       "      <td>30.01.1986</td>\n",
       "      <td>BIGLIA</td>\n",
       "      <td>AC Milan (ITA)</td>\n",
       "      <td>175</td>\n",
       "      <td>73</td>\n",
       "      <td>1986</td>\n",
       "      <td>30</td>\n",
       "      <td>01</td>\n",
       "      <td>1986-01-30</td>\n",
       "    </tr>\n",
       "    <tr>\n",
       "      <th>7</th>\n",
       "      <td>Argentina</td>\n",
       "      <td>7</td>\n",
       "      <td>MF</td>\n",
       "      <td>BANEGA Ever</td>\n",
       "      <td>29.06.1988</td>\n",
       "      <td>BANEGA</td>\n",
       "      <td>Sevilla FC (ESP)</td>\n",
       "      <td>175</td>\n",
       "      <td>73</td>\n",
       "      <td>1988</td>\n",
       "      <td>29</td>\n",
       "      <td>06</td>\n",
       "      <td>1988-06-29</td>\n",
       "    </tr>\n",
       "    <tr>\n",
       "      <th>8</th>\n",
       "      <td>Argentina</td>\n",
       "      <td>14</td>\n",
       "      <td>DF</td>\n",
       "      <td>MASCHERANO Javier</td>\n",
       "      <td>08.06.1984</td>\n",
       "      <td>MASCHERANO</td>\n",
       "      <td>Hebei China Fortune FC (CHN)</td>\n",
       "      <td>174</td>\n",
       "      <td>73</td>\n",
       "      <td>1984</td>\n",
       "      <td>08</td>\n",
       "      <td>06</td>\n",
       "      <td>1984-06-08</td>\n",
       "    </tr>\n",
       "    <tr>\n",
       "      <th>9</th>\n",
       "      <td>Argentina</td>\n",
       "      <td>21</td>\n",
       "      <td>FW</td>\n",
       "      <td>DYBALA Paulo</td>\n",
       "      <td>15.11.1993</td>\n",
       "      <td>DYBALA</td>\n",
       "      <td>Juventus FC (ITA)</td>\n",
       "      <td>177</td>\n",
       "      <td>73</td>\n",
       "      <td>1993</td>\n",
       "      <td>15</td>\n",
       "      <td>11</td>\n",
       "      <td>1993-11-15</td>\n",
       "    </tr>\n",
       "  </tbody>\n",
       "</table>\n",
       "</div>"
      ],
      "text/plain": [
       "     Selecao  Numero Posicao           Nome_FIFA  Nascimento Nome Camiseta  \\\n",
       "0  Argentina       3      DF  TAGLIAFICO Nicolas  31.08.1992    TAGLIAFICO   \n",
       "1  Argentina      22      MF      PAVON Cristian  21.01.1996         PAVÓN   \n",
       "2  Argentina      15      MF      LANZINI Manuel  15.02.1993       LANZINI   \n",
       "3  Argentina      18      DF      SALVIO Eduardo  13.07.1990        SALVIO   \n",
       "4  Argentina      10      FW        MESSI Lionel  24.06.1987         MESSI   \n",
       "5  Argentina       4      DF    ANSALDI Cristian  20.09.1986       ANSALDI   \n",
       "6  Argentina       5      MF        BIGLIA Lucas  30.01.1986        BIGLIA   \n",
       "7  Argentina       7      MF         BANEGA Ever  29.06.1988        BANEGA   \n",
       "8  Argentina      14      DF   MASCHERANO Javier  08.06.1984    MASCHERANO   \n",
       "9  Argentina      21      FW        DYBALA Paulo  15.11.1993        DYBALA   \n",
       "\n",
       "                           Time  Altura  Peso   Ano Dia Mes Data_Nascimento  \n",
       "0                AFC Ajax (NED)     169    65  1992  31  08      1992-08-31  \n",
       "1         CA Boca Juniors (ARG)     169    65  1996  21  01      1996-01-21  \n",
       "2      West Ham United FC (ENG)     167    66  1993  15  02      1993-02-15  \n",
       "3              SL Benfica (POR)     167    69  1990  13  07      1990-07-13  \n",
       "4            FC Barcelona (ESP)     170    72  1987  24  06      1987-06-24  \n",
       "5               Torino FC (ITA)     181    73  1986  20  09      1986-09-20  \n",
       "6                AC Milan (ITA)     175    73  1986  30  01      1986-01-30  \n",
       "7              Sevilla FC (ESP)     175    73  1988  29  06      1988-06-29  \n",
       "8  Hebei China Fortune FC (CHN)     174    73  1984  08  06      1984-06-08  \n",
       "9             Juventus FC (ITA)     177    73  1993  15  11      1993-11-15  "
      ]
     },
     "execution_count": 88,
     "metadata": {},
     "output_type": "execute_result"
    }
   ],
   "source": [
    "df.limit(10).toPandas()"
   ]
  }
 ],
 "metadata": {
  "kernelspec": {
   "display_name": "Python 3 (ipykernel)",
   "language": "python",
   "name": "python3"
  },
  "language_info": {
   "codemirror_mode": {
    "name": "ipython",
    "version": 3
   },
   "file_extension": ".py",
   "mimetype": "text/x-python",
   "name": "python",
   "nbconvert_exporter": "python",
   "pygments_lexer": "ipython3",
   "version": "3.9.12"
  }
 },
 "nbformat": 4,
 "nbformat_minor": 5
}
