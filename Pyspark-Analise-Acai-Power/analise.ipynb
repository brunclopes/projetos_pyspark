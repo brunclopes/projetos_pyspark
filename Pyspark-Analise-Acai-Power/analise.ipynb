{
 "cells": [
  {
   "cell_type": "markdown",
   "metadata": {},
   "source": [
    "##### Configurando as variáveis de ambiente"
   ]
  },
  {
   "cell_type": "code",
   "execution_count": 1,
   "metadata": {},
   "outputs": [],
   "source": [
    "# Configurando as variáveis de ambiente\n",
    "\n",
    "import os \n",
    "os.environ[\"SPARK_HOME\"] = \"C:\\spark\\spark-3.1.3-bin-hadoop2.7\""
   ]
  },
  {
   "cell_type": "markdown",
   "metadata": {},
   "source": [
    "##### Iniciando uma sessão local"
   ]
  },
  {
   "cell_type": "code",
   "execution_count": 2,
   "metadata": {},
   "outputs": [],
   "source": [
    "import pyspark\n",
    "from pyspark.sql import SparkSession\n",
    "\n",
    "spark = SparkSession.builder.master('local[*]').getOrCreate()"
   ]
  },
  {
   "cell_type": "markdown",
   "metadata": {},
   "source": [
    "##### Tornar o pyspark \"importável\" e Importando bibliotecas"
   ]
  },
  {
   "cell_type": "code",
   "execution_count": 3,
   "metadata": {},
   "outputs": [],
   "source": [
    "# Tornar o pyspark \"importável\"\n",
    "import findspark\n",
    "findspark.init()\n",
    "\n",
    "# Importando bibliotecas\n",
    "import pandas as pd\n",
    "from pyspark.sql.functions import col, to_date, hour, year, month, to_timestamp, dayofmonth\n",
    "from pyspark.sql.types import IntegerType"
   ]
  },
  {
   "cell_type": "markdown",
   "metadata": {},
   "source": [
    "### Leitura dos dados \n",
    "#### Foi realizado a leitura de uma planilha Excel, onde cada tabela estava em uma planilha diferente."
   ]
  },
  {
   "cell_type": "code",
   "execution_count": 4,
   "metadata": {},
   "outputs": [
    {
     "ename": "AnalysisException",
     "evalue": "Path does not exist: file:/D:/Acai_power/dCopo.csv",
     "output_type": "error",
     "traceback": [
      "\u001b[1;31m---------------------------------------------------------------------------\u001b[0m",
      "\u001b[1;31mAnalysisException\u001b[0m                         Traceback (most recent call last)",
      "\u001b[1;32m~\\AppData\\Local\\Temp/ipykernel_154820/44506661.py\u001b[0m in \u001b[0;36m<module>\u001b[1;34m\u001b[0m\n\u001b[0;32m      2\u001b[0m \u001b[0mpath\u001b[0m \u001b[1;33m=\u001b[0m \u001b[1;34m'D:\\Acai_power'\u001b[0m\u001b[1;33m\u001b[0m\u001b[1;33m\u001b[0m\u001b[0m\n\u001b[0;32m      3\u001b[0m \u001b[1;33m\u001b[0m\u001b[0m\n\u001b[1;32m----> 4\u001b[1;33m \u001b[0mdf_copo\u001b[0m \u001b[1;33m=\u001b[0m \u001b[0mspark\u001b[0m\u001b[1;33m.\u001b[0m\u001b[0mread\u001b[0m\u001b[1;33m.\u001b[0m\u001b[0moption\u001b[0m\u001b[1;33m(\u001b[0m\u001b[1;34m\"delimiter\"\u001b[0m\u001b[1;33m,\u001b[0m \u001b[1;34m\";\"\u001b[0m\u001b[1;33m)\u001b[0m\u001b[1;33m.\u001b[0m\u001b[0moption\u001b[0m\u001b[1;33m(\u001b[0m\u001b[1;34m\"header\"\u001b[0m\u001b[1;33m,\u001b[0m \u001b[1;34m\"true\"\u001b[0m\u001b[1;33m)\u001b[0m\u001b[1;33m.\u001b[0m\u001b[0mcsv\u001b[0m\u001b[1;33m(\u001b[0m\u001b[1;34mf'{path}\\{list[0]}.csv'\u001b[0m\u001b[1;33m)\u001b[0m\u001b[1;33m\u001b[0m\u001b[1;33m\u001b[0m\u001b[0m\n\u001b[0m\u001b[0;32m      5\u001b[0m \u001b[1;33m\u001b[0m\u001b[0m\n\u001b[0;32m      6\u001b[0m \u001b[0mdf_pedidos\u001b[0m \u001b[1;33m=\u001b[0m \u001b[0mspark\u001b[0m\u001b[1;33m.\u001b[0m\u001b[0mread\u001b[0m\u001b[1;33m.\u001b[0m\u001b[0moption\u001b[0m\u001b[1;33m(\u001b[0m\u001b[1;34m\"delimiter\"\u001b[0m\u001b[1;33m,\u001b[0m \u001b[1;34m\";\"\u001b[0m\u001b[1;33m)\u001b[0m\u001b[1;33m.\u001b[0m\u001b[0moption\u001b[0m\u001b[1;33m(\u001b[0m\u001b[1;34m\"header\"\u001b[0m\u001b[1;33m,\u001b[0m \u001b[1;34m\"true\"\u001b[0m\u001b[1;33m)\u001b[0m\u001b[1;33m.\u001b[0m\u001b[0mcsv\u001b[0m\u001b[1;33m(\u001b[0m\u001b[1;34mf'{path}\\{list[1]}.csv'\u001b[0m\u001b[1;33m)\u001b[0m\u001b[1;33m\u001b[0m\u001b[1;33m\u001b[0m\u001b[0m\n",
      "\u001b[1;32mc:\\Users\\User\\AppData\\Local\\Programs\\Python\\Python310\\lib\\site-packages\\pyspark\\sql\\readwriter.py\u001b[0m in \u001b[0;36mcsv\u001b[1;34m(self, path, schema, sep, encoding, quote, escape, comment, header, inferSchema, ignoreLeadingWhiteSpace, ignoreTrailingWhiteSpace, nullValue, nanValue, positiveInf, negativeInf, dateFormat, timestampFormat, maxColumns, maxCharsPerColumn, maxMalformedLogPerPartition, mode, columnNameOfCorruptRecord, multiLine, charToEscapeQuoteEscaping, samplingRatio, enforceSchema, emptyValue, locale, lineSep, pathGlobFilter, recursiveFileLookup, modifiedBefore, modifiedAfter, unescapedQuoteHandling)\u001b[0m\n\u001b[0;32m    408\u001b[0m             \u001b[0mpath\u001b[0m \u001b[1;33m=\u001b[0m \u001b[1;33m[\u001b[0m\u001b[0mpath\u001b[0m\u001b[1;33m]\u001b[0m\u001b[1;33m\u001b[0m\u001b[1;33m\u001b[0m\u001b[0m\n\u001b[0;32m    409\u001b[0m         \u001b[1;32mif\u001b[0m \u001b[0mtype\u001b[0m\u001b[1;33m(\u001b[0m\u001b[0mpath\u001b[0m\u001b[1;33m)\u001b[0m \u001b[1;33m==\u001b[0m \u001b[0mlist\u001b[0m\u001b[1;33m:\u001b[0m\u001b[1;33m\u001b[0m\u001b[1;33m\u001b[0m\u001b[0m\n\u001b[1;32m--> 410\u001b[1;33m             \u001b[1;32mreturn\u001b[0m \u001b[0mself\u001b[0m\u001b[1;33m.\u001b[0m\u001b[0m_df\u001b[0m\u001b[1;33m(\u001b[0m\u001b[0mself\u001b[0m\u001b[1;33m.\u001b[0m\u001b[0m_jreader\u001b[0m\u001b[1;33m.\u001b[0m\u001b[0mcsv\u001b[0m\u001b[1;33m(\u001b[0m\u001b[0mself\u001b[0m\u001b[1;33m.\u001b[0m\u001b[0m_spark\u001b[0m\u001b[1;33m.\u001b[0m\u001b[0m_sc\u001b[0m\u001b[1;33m.\u001b[0m\u001b[0m_jvm\u001b[0m\u001b[1;33m.\u001b[0m\u001b[0mPythonUtils\u001b[0m\u001b[1;33m.\u001b[0m\u001b[0mtoSeq\u001b[0m\u001b[1;33m(\u001b[0m\u001b[0mpath\u001b[0m\u001b[1;33m)\u001b[0m\u001b[1;33m)\u001b[0m\u001b[1;33m)\u001b[0m\u001b[1;33m\u001b[0m\u001b[1;33m\u001b[0m\u001b[0m\n\u001b[0m\u001b[0;32m    411\u001b[0m         \u001b[1;32melif\u001b[0m \u001b[0misinstance\u001b[0m\u001b[1;33m(\u001b[0m\u001b[0mpath\u001b[0m\u001b[1;33m,\u001b[0m \u001b[0mRDD\u001b[0m\u001b[1;33m)\u001b[0m\u001b[1;33m:\u001b[0m\u001b[1;33m\u001b[0m\u001b[1;33m\u001b[0m\u001b[0m\n\u001b[0;32m    412\u001b[0m             \u001b[1;32mdef\u001b[0m \u001b[0mfunc\u001b[0m\u001b[1;33m(\u001b[0m\u001b[0miterator\u001b[0m\u001b[1;33m)\u001b[0m\u001b[1;33m:\u001b[0m\u001b[1;33m\u001b[0m\u001b[1;33m\u001b[0m\u001b[0m\n",
      "\u001b[1;32mc:\\Users\\User\\AppData\\Local\\Programs\\Python\\Python310\\lib\\site-packages\\py4j\\java_gateway.py\u001b[0m in \u001b[0;36m__call__\u001b[1;34m(self, *args)\u001b[0m\n\u001b[0;32m   1307\u001b[0m \u001b[1;33m\u001b[0m\u001b[0m\n\u001b[0;32m   1308\u001b[0m         \u001b[0manswer\u001b[0m \u001b[1;33m=\u001b[0m \u001b[0mself\u001b[0m\u001b[1;33m.\u001b[0m\u001b[0mgateway_client\u001b[0m\u001b[1;33m.\u001b[0m\u001b[0msend_command\u001b[0m\u001b[1;33m(\u001b[0m\u001b[0mcommand\u001b[0m\u001b[1;33m)\u001b[0m\u001b[1;33m\u001b[0m\u001b[1;33m\u001b[0m\u001b[0m\n\u001b[1;32m-> 1309\u001b[1;33m         return_value = get_return_value(\n\u001b[0m\u001b[0;32m   1310\u001b[0m             answer, self.gateway_client, self.target_id, self.name)\n\u001b[0;32m   1311\u001b[0m \u001b[1;33m\u001b[0m\u001b[0m\n",
      "\u001b[1;32mc:\\Users\\User\\AppData\\Local\\Programs\\Python\\Python310\\lib\\site-packages\\pyspark\\sql\\utils.py\u001b[0m in \u001b[0;36mdeco\u001b[1;34m(*a, **kw)\u001b[0m\n\u001b[0;32m    115\u001b[0m                 \u001b[1;31m# Hide where the exception came from that shows a non-Pythonic\u001b[0m\u001b[1;33m\u001b[0m\u001b[1;33m\u001b[0m\u001b[0m\n\u001b[0;32m    116\u001b[0m                 \u001b[1;31m# JVM exception message.\u001b[0m\u001b[1;33m\u001b[0m\u001b[1;33m\u001b[0m\u001b[0m\n\u001b[1;32m--> 117\u001b[1;33m                 \u001b[1;32mraise\u001b[0m \u001b[0mconverted\u001b[0m \u001b[1;32mfrom\u001b[0m \u001b[1;32mNone\u001b[0m\u001b[1;33m\u001b[0m\u001b[1;33m\u001b[0m\u001b[0m\n\u001b[0m\u001b[0;32m    118\u001b[0m             \u001b[1;32melse\u001b[0m\u001b[1;33m:\u001b[0m\u001b[1;33m\u001b[0m\u001b[1;33m\u001b[0m\u001b[0m\n\u001b[0;32m    119\u001b[0m                 \u001b[1;32mraise\u001b[0m\u001b[1;33m\u001b[0m\u001b[1;33m\u001b[0m\u001b[0m\n",
      "\u001b[1;31mAnalysisException\u001b[0m: Path does not exist: file:/D:/Acai_power/dCopo.csv"
     ]
    }
   ],
   "source": [
    "list = ['dCopo', 'fPedidos', 'dCidade', 'dEntrega', 'dPagamento', 'dAcompanhamento', 'dCobertura']\n",
    "path = 'D:\\Acai_power'\n",
    "\n",
    "df_copo = spark.read.option(\"delimiter\", \";\").option(\"header\", \"true\").csv(f'{path}\\{list[0]}.csv')\n",
    "\n",
    "df_pedidos = spark.read.option(\"delimiter\", \";\").option(\"header\", \"true\").csv(f'{path}\\{list[1]}.csv')\n",
    "\n",
    "df_cidade = spark.read.option(\"delimiter\", \";\").option(\"header\", \"true\").csv(f'{path}\\{list[2]}.csv')\n",
    "\n",
    "df_entrega = spark.read.option(\"delimiter\", \";\").option(\"header\", \"true\").csv(f'{path}\\{list[3]}.csv')\n",
    "\n",
    "df_pagamento = spark.read.option(\"delimiter\", \";\").option(\"header\", \"true\").csv(f'{path}\\{list[4]}.csv')\n",
    "\n",
    "df_acompanhamento = spark.read.option(\"delimiter\", \";\").option(\"header\", \"true\").csv(f'{path}\\{list[5]}.csv')\n",
    "\n",
    "df_cobertura = spark.read.option(\"delimiter\", \";\").option(\"header\", \"true\").csv(f'{path}\\{list[6]}.csv')"
   ]
  },
  {
   "cell_type": "code",
   "execution_count": null,
   "metadata": {},
   "outputs": [],
   "source": [
    "# Tratamento no Dataframe pedidos, convertendo a coluna DataHora para datetime\n",
    "\n",
    "df_pedidos = df_pedidos.withColumn('DataHora', to_timestamp('DataHora'))"
   ]
  },
  {
   "cell_type": "markdown",
   "metadata": {},
   "source": [
    "### Join entre os Dataframes\n",
    "#### Após a leitura, foi realizado join entre o Dataframe Pedidos com os demais Dataframes, com o intuito de criar somente um tabelão, retirando os códigos e substituindo pelas informações descritivas."
   ]
  },
  {
   "cell_type": "code",
   "execution_count": null,
   "metadata": {},
   "outputs": [],
   "source": [
    "# Join com o Dataframe Copo, trazendo informações como o volume do copo e valor do copo\n",
    "cond = [df_pedidos.Copo == df_copo.IdCopo]\n",
    "pedidos = df_pedidos.join(df_copo, cond, how='left').drop('IdCopo', 'Copo')\n",
    "\n",
    "# Join com o Dataframe Cidade, trazendo informações de localização do cliente\n",
    "cond = [pedidos.Cidade == df_cidade.IdCidade]\n",
    "pedidos = pedidos.join(df_cidade, cond, how='left').drop('IdCidade', 'Cidade')\n",
    "\n",
    "# Join com o Dataframe Entrega, trazendo informações sobre o tipo de entrega\n",
    "cond = [pedidos.Entrega == df_entrega.IdEntrega]\n",
    "pedidos = pedidos.join(df_entrega, cond, how='left').drop('IdEntrega', 'Entrega')\n",
    "\n",
    "# Join com o Dataframe Pagamento, trazendo as informações de pagamento do cliente\n",
    "cond = [pedidos.Pagamento == df_pagamento.IdPagamento]\n",
    "pedidos = pedidos.join(df_pagamento, cond, how='left').drop('IdPagamento', 'Pagamento')\n",
    "\n",
    "# Join com o Dataframe Cobertura, trazendo informação da cobertura escolhida pelo cliente\n",
    "cond = [pedidos.Cobertura == df_cobertura.IdCobertura]\n",
    "pedidos = pedidos.join(df_cobertura, cond, how='left').drop('IdCobertura', 'Cobertura')\n",
    "\n",
    "\n",
    "# Join com o Dataframe Acompanhamentos, trazendo informações sobre os acompanhamentos solicitados. Como são 3 acompanhamentos, o processo foi realizado um de cada vez.\n",
    "\n",
    "# Acompanhamento1\n",
    "cond = [pedidos.Acomp1 == df_acompanhamento.IdAcompanhamento]\n",
    "pedidos = pedidos.join(df_acompanhamento, cond, how='left').drop('Acomp1', 'IdAcompanhamento')\n",
    "pedidos = pedidos.withColumnRenamed('NomAcompanhamento', 'Acompanhamento1')\n",
    "\n",
    "# Acompanhamento2\n",
    "cond = [pedidos.Acomp2 == df_acompanhamento.IdAcompanhamento]\n",
    "pedidos = pedidos.join(df_acompanhamento, cond, how='left').drop('Acomp2', 'IdAcompanhamento')\n",
    "pedidos = pedidos.withColumnRenamed('NomAcompanhamento', 'Acompanhamento2')\n",
    "\n",
    "# Acompanhamento3\n",
    "cond = [pedidos.Acomp3 == df_acompanhamento.IdAcompanhamento]\n",
    "pedidos = pedidos.join(df_acompanhamento, cond, how='left').drop('Acomp3', 'IdAcompanhamento')\n",
    "pedidos = pedidos.withColumnRenamed('NomAcompanhamento', 'Acompanhamento3')"
   ]
  },
  {
   "cell_type": "markdown",
   "metadata": {},
   "source": [
    "### Selecionando colunas, renomeando e adicionando novas. "
   ]
  },
  {
   "cell_type": "code",
   "execution_count": null,
   "metadata": {},
   "outputs": [],
   "source": [
    "pedidos = pedidos.select(\n",
    "    col('DataHora')\n",
    "    ,to_date(col(\"DataHora\"),\"yyyy-MM-dd\").alias(\"Data\")\n",
    "    ,hour(col('DataHora')).alias('HoraPedido')\n",
    "    ,col('IdPedido')\n",
    "    ,col('CategoriaCopo').alias('TamanhoCopo')\n",
    "    ,col('VlrPrecoCopo').alias('Valor')\n",
    "    ,col('NomCidade').alias('Cidade')\n",
    "    ,col('NomEstado').alias('Estado')\n",
    "    ,col('NomRegiao').alias('Regiao')\n",
    "    ,col('NomEntrega').alias('TipoEntrega')\n",
    "    ,col('NomPagamento').alias('TipoPagamento')\n",
    "    ,col('NomCobertura').alias('Cobertura')\n",
    "    ,col('Acompanhamento1')\n",
    "    ,col('Acompanhamento2')\n",
    "    ,col('Acompanhamento3')\n",
    ")"
   ]
  },
  {
   "cell_type": "markdown",
   "metadata": {},
   "source": [
    "## Análise dos Dados\n",
    "### Respondendo perguntas"
   ]
  },
  {
   "cell_type": "markdown",
   "metadata": {},
   "source": [
    "### Análise dos pedidos"
   ]
  },
  {
   "cell_type": "markdown",
   "metadata": {},
   "source": [
    "##### Pedidos por ano e mês"
   ]
  },
  {
   "cell_type": "code",
   "execution_count": null,
   "metadata": {},
   "outputs": [
    {
     "name": "stdout",
     "output_type": "stream",
     "text": [
      "+----+---+----------------+\n",
      "| Ano|Mes|Contagem Pedidos|\n",
      "+----+---+----------------+\n",
      "|2020|  1|            1407|\n",
      "|2020|  2|            1359|\n",
      "|2020|  3|            1607|\n",
      "|2020|  4|            1348|\n",
      "|2020|  5|            1472|\n",
      "|2020|  6|            1484|\n",
      "|2020|  7|            1523|\n",
      "|2020|  8|            1426|\n",
      "|2020|  9|            1389|\n",
      "|2020| 10|            1574|\n",
      "|2020| 11|            1420|\n",
      "|2020| 12|            1468|\n",
      "|2021|  1|            1465|\n",
      "|2021|  2|            1314|\n",
      "|2021|  3|            1590|\n",
      "|2021|  4|            1380|\n",
      "|2021|  5|            1480|\n",
      "|2021|  6|            1346|\n",
      "|2021|  7|            1542|\n",
      "|2021|  8|            1451|\n",
      "+----+---+----------------+\n",
      "only showing top 20 rows\n",
      "\n"
     ]
    }
   ],
   "source": [
    "# Pedidos por ano e mês\n",
    "pedidos.groupby(year(col('Data')).alias('Ano'),\\\n",
    "month(col('Data')).alias('Mes'))\\\n",
    ".count()\\\n",
    ".orderBy('ano', 'mes')\\\n",
    ".withColumnRenamed('count', 'Contagem Pedidos')\\\n",
    ".show()"
   ]
  },
  {
   "cell_type": "markdown",
   "metadata": {},
   "source": [
    "##### Pedidos por dia do mês"
   ]
  },
  {
   "cell_type": "code",
   "execution_count": null,
   "metadata": {},
   "outputs": [
    {
     "name": "stdout",
     "output_type": "stream",
     "text": [
      "+----------+----------------+\n",
      "|Dia do Mes|Contagem Pedidos|\n",
      "+----------+----------------+\n",
      "|         1|            3169|\n",
      "|         3|            2411|\n",
      "|         2|            2400|\n",
      "|         8|            2375|\n",
      "|        25|            2340|\n",
      "|        18|            2330|\n",
      "|        12|            2320|\n",
      "|        21|            2315|\n",
      "|        17|            2313|\n",
      "|        15|            2293|\n",
      "|        11|            2282|\n",
      "|        26|            2275|\n",
      "|         5|            2266|\n",
      "|        16|            2262|\n",
      "|        14|            2259|\n",
      "|        13|            2257|\n",
      "|        27|            2247|\n",
      "|         7|            2246|\n",
      "|        24|            2243|\n",
      "|        23|            2242|\n",
      "+----------+----------------+\n",
      "only showing top 20 rows\n",
      "\n"
     ]
    }
   ],
   "source": [
    "pedidos.groupBy(dayofmonth('Data')\\\n",
    "    .alias('Dia do Mes'))\\\n",
    "    .count()\\\n",
    "    .withColumnRenamed('count', 'Contagem Pedidos')\\\n",
    "    .orderBy('Contagem Pedidos', ascending = False)\\\n",
    "    .show()"
   ]
  },
  {
   "cell_type": "markdown",
   "metadata": {},
   "source": [
    "##### Horário em que foram realizados mais pedidos"
   ]
  },
  {
   "cell_type": "code",
   "execution_count": null,
   "metadata": {},
   "outputs": [
    {
     "name": "stdout",
     "output_type": "stream",
     "text": [
      "+----------+----------------+\n",
      "|HoraPedido|Contagem Pedidos|\n",
      "+----------+----------------+\n",
      "|        10|            5930|\n",
      "|        13|            5875|\n",
      "|        18|            5867|\n",
      "|        14|            5852|\n",
      "|        11|            5841|\n",
      "|        20|            5840|\n",
      "|        16|            5839|\n",
      "|        17|            5834|\n",
      "|        19|            5798|\n",
      "|        12|            5771|\n",
      "|        15|            5764|\n",
      "|         9|            5698|\n",
      "|        21|              91|\n",
      "+----------+----------------+\n",
      "\n"
     ]
    }
   ],
   "source": [
    "pedidos.groupby(col('HoraPedido'))\\\n",
    "    .count()\\\n",
    "    .withColumnRenamed('count', 'Contagem Pedidos')\\\n",
    "    .orderBy('Contagem Pedidos', ascending= False)\\\n",
    "    .show()"
   ]
  },
  {
   "cell_type": "markdown",
   "metadata": {},
   "source": [
    "##### Pedidos por cidade"
   ]
  },
  {
   "cell_type": "code",
   "execution_count": null,
   "metadata": {},
   "outputs": [
    {
     "name": "stdout",
     "output_type": "stream",
     "text": [
      "+-------------------+----------------+\n",
      "|             Cidade|Contagem Pedidos|\n",
      "+-------------------+----------------+\n",
      "|         Petrópolis|            4232|\n",
      "|           Blumenau|            4206|\n",
      "|             Itajaí|            4190|\n",
      "|     Rio de Janeiro|            4186|\n",
      "|São José dos Campos|            4163|\n",
      "|          Fortaleza|            4137|\n",
      "|      Florianópolis|            4132|\n",
      "|          Joinville|            4120|\n",
      "|        Nova Iguaçu|            4109|\n",
      "|  Juazeiro do Norte|            4105|\n",
      "|             Sobral|            4102|\n",
      "|    Duque de Caxias|            4086|\n",
      "|           Caieiras|            4076|\n",
      "|          Nilópolis|            4072|\n",
      "|         Jaguariúna|            4070|\n",
      "|   Campos do Jordão|            4010|\n",
      "|          São Paulo|            4004|\n",
      "+-------------------+----------------+\n",
      "\n"
     ]
    }
   ],
   "source": [
    "pedidos.groupBy('Cidade')\\\n",
    "    .count()\\\n",
    "    .withColumnRenamed('count', 'Contagem Pedidos')\\\n",
    "    .orderBy('Contagem Pedidos', ascending= False)\\\n",
    "    .show()"
   ]
  },
  {
   "cell_type": "markdown",
   "metadata": {},
   "source": [
    "##### Pedidos por estado"
   ]
  },
  {
   "cell_type": "code",
   "execution_count": null,
   "metadata": {},
   "outputs": [
    {
     "name": "stdout",
     "output_type": "stream",
     "text": [
      "+--------------+----------------+\n",
      "|        Estado|Contagem Pedidos|\n",
      "+--------------+----------------+\n",
      "|Rio de Janeiro|           20685|\n",
      "|     São Paulo|           20323|\n",
      "|Santa Catarina|           16648|\n",
      "|         Ceará|           12344|\n",
      "+--------------+----------------+\n",
      "\n"
     ]
    }
   ],
   "source": [
    "pedidos.groupBy('Estado')\\\n",
    "    .count()\\\n",
    "    .withColumnRenamed('count', 'Contagem Pedidos')\\\n",
    "    .orderBy('Contagem Pedidos', ascending= False)\\\n",
    "    .show()"
   ]
  },
  {
   "cell_type": "markdown",
   "metadata": {},
   "source": [
    "##### Pedidos por região"
   ]
  },
  {
   "cell_type": "code",
   "execution_count": null,
   "metadata": {},
   "outputs": [
    {
     "name": "stdout",
     "output_type": "stream",
     "text": [
      "+--------+----------------+\n",
      "|  Regiao|Contagem Pedidos|\n",
      "+--------+----------------+\n",
      "| Sudeste|           41008|\n",
      "|     Sul|           16648|\n",
      "|Nordeste|           12344|\n",
      "+--------+----------------+\n",
      "\n"
     ]
    }
   ],
   "source": [
    "pedidos.groupBy('Regiao')\\\n",
    "    .count()\\\n",
    "    .withColumnRenamed('count', 'Contagem Pedidos')\\\n",
    "    .orderBy('Contagem Pedidos', ascending= False)\\\n",
    "    .show()"
   ]
  },
  {
   "cell_type": "markdown",
   "metadata": {},
   "source": [
    "##### Pedidos por tipo de consumo (no local ou delivery)"
   ]
  },
  {
   "cell_type": "code",
   "execution_count": null,
   "metadata": {},
   "outputs": [
    {
     "name": "stdout",
     "output_type": "stream",
     "text": [
      "+----------------+----------------+\n",
      "|     TipoEntrega|Contagem Pedidos|\n",
      "+----------------+----------------+\n",
      "|Consumo no local|           35099|\n",
      "|        Delivery|           34901|\n",
      "+----------------+----------------+\n",
      "\n"
     ]
    }
   ],
   "source": [
    "pedidos.groupBy('TipoEntrega')\\\n",
    "    .count()\\\n",
    "    .withColumnRenamed('count', 'Contagem Pedidos')\\\n",
    "    .orderBy('Contagem Pedidos', ascending= False)\\\n",
    "    .show()"
   ]
  },
  {
   "cell_type": "markdown",
   "metadata": {},
   "source": [
    "##### Pedidos por forma de pagamento"
   ]
  },
  {
   "cell_type": "code",
   "execution_count": null,
   "metadata": {},
   "outputs": [
    {
     "name": "stdout",
     "output_type": "stream",
     "text": [
      "+-------------+----------------+\n",
      "|TipoPagamento|Contagem Pedidos|\n",
      "+-------------+----------------+\n",
      "|     Dinheiro|           17649|\n",
      "|       Débito|           17548|\n",
      "|      Crédito|           17459|\n",
      "|          Pix|           17344|\n",
      "+-------------+----------------+\n",
      "\n"
     ]
    }
   ],
   "source": [
    "pedidos.groupBy('TipoPagamento')\\\n",
    "    .count()\\\n",
    "    .withColumnRenamed('count', 'Contagem Pedidos')\\\n",
    "    .orderBy('Contagem Pedidos', ascending= False)\\\n",
    "    .show()"
   ]
  },
  {
   "cell_type": "markdown",
   "metadata": {},
   "source": [
    "##### Coberturas mais pedidas"
   ]
  },
  {
   "cell_type": "code",
   "execution_count": null,
   "metadata": {},
   "outputs": [
    {
     "name": "stdout",
     "output_type": "stream",
     "text": [
      "+------------+----------------+\n",
      "|   Cobertura|Contagem Pedidos|\n",
      "+------------+----------------+\n",
      "|       Menta|            7212|\n",
      "|    Maracujá|            7111|\n",
      "|Tutti-frutti|            7085|\n",
      "|   Chocolate|            7041|\n",
      "|    Blue Ice|            6999|\n",
      "|       Limão|            6980|\n",
      "|     Morango|            6919|\n",
      "|         Uva|            6902|\n",
      "|    Chiclete|            6892|\n",
      "|     Abacaxi|            6859|\n",
      "+------------+----------------+\n",
      "\n"
     ]
    }
   ],
   "source": [
    "pedidos.groupBy('Cobertura')\\\n",
    "    .count()\\\n",
    "    .withColumnRenamed('count', 'Contagem Pedidos')\\\n",
    "    .orderBy('Contagem Pedidos', ascending= False)\\\n",
    "    .show()"
   ]
  },
  {
   "cell_type": "markdown",
   "metadata": {},
   "source": [
    "#### Analisando os acompanhamentos pedidos\n",
    "##### Para isso, foram criados 3 Dataframes com o Id do pedido e também a descrição do acompanhamento, e logo após o Union para a análise ser realizada."
   ]
  },
  {
   "cell_type": "code",
   "execution_count": null,
   "metadata": {},
   "outputs": [],
   "source": [
    "# Criando 3 Dataframes com o IdPedido e o acompanhamento 1, 2 e 3\n",
    "acompanhamento1 = pedidos.select(col('Acompanhamento1').alias('Acompanhamento'), col('IdPedido'))\n",
    "acompanhamento2 = pedidos.select(col('Acompanhamento2').alias('Acompanhamento'), col('IdPedido'))\n",
    "acompanhamento3 = pedidos.select(col('Acompanhamento3').alias('Acompanhamento'), col('IdPedido'))"
   ]
  },
  {
   "cell_type": "code",
   "execution_count": null,
   "metadata": {},
   "outputs": [],
   "source": [
    "# Realizando o Union dos 3 Dataframes\n",
    "acompanhamentos = acompanhamento1.unionAll(acompanhamento2).unionAll(acompanhamento3)"
   ]
  },
  {
   "cell_type": "markdown",
   "metadata": {},
   "source": [
    "##### Acompanhamentos mais pedidos"
   ]
  },
  {
   "cell_type": "code",
   "execution_count": null,
   "metadata": {},
   "outputs": [
    {
     "name": "stdout",
     "output_type": "stream",
     "text": [
      "+--------------------+----------------+\n",
      "|      Acompanhamento|Contagem Pedidos|\n",
      "+--------------------+----------------+\n",
      "|            Castanha|           19225|\n",
      "|      Floco de arroz|           19208|\n",
      "|         Leite Ninho|           19189|\n",
      "|Confete de chocolate|           19185|\n",
      "|             Granola|           19145|\n",
      "|              Paçoca|           19099|\n",
      "|              Jujuba|           19059|\n",
      "|       Tubo de wafer|           19056|\n",
      "|       Nescau cereal|           19005|\n",
      "|           Granulado|           18946|\n",
      "|           Sucrilhos|           18883|\n",
      "+--------------------+----------------+\n",
      "\n"
     ]
    }
   ],
   "source": [
    "acompanhamentos.groupBy('Acompanhamento')\\\n",
    "    .count()\\\n",
    "    .withColumnRenamed('count', 'Contagem Pedidos')\\\n",
    "    .orderBy('Contagem Pedidos', ascending= False)\\\n",
    "    .show()"
   ]
  },
  {
   "cell_type": "markdown",
   "metadata": {},
   "source": [
    "##### Pedidos por tamanho do copo (em ml)"
   ]
  },
  {
   "cell_type": "code",
   "execution_count": null,
   "metadata": {},
   "outputs": [
    {
     "name": "stdout",
     "output_type": "stream",
     "text": [
      "+-----------+----------------+\n",
      "|TamanhoCopo|Contagem Pedidos|\n",
      "+-----------+----------------+\n",
      "|     1000ml|           14134|\n",
      "|      500ml|           13986|\n",
      "|      200ml|           13975|\n",
      "|      700ml|           13961|\n",
      "|      300ml|           13944|\n",
      "+-----------+----------------+\n",
      "\n"
     ]
    }
   ],
   "source": [
    "pedidos.groupBy('TamanhoCopo')\\\n",
    "    .count()\\\n",
    "    .withColumnRenamed('count', 'Contagem Pedidos')\\\n",
    "    .orderBy('Contagem Pedidos', ascending= False)\\\n",
    "    .show()"
   ]
  },
  {
   "cell_type": "markdown",
   "metadata": {},
   "source": [
    "##### Pedidos por tamanho do copo (em ml) em cada cidade"
   ]
  },
  {
   "cell_type": "code",
   "execution_count": null,
   "metadata": {},
   "outputs": [
    {
     "name": "stdout",
     "output_type": "stream",
     "text": [
      "+-------------------+-----------+----------------+\n",
      "|             Cidade|TamanhoCopo|Contagem Pedidos|\n",
      "+-------------------+-----------+----------------+\n",
      "|           Blumenau|      700ml|             897|\n",
      "|         Petrópolis|      500ml|             891|\n",
      "|     Rio de Janeiro|      700ml|             887|\n",
      "|São José dos Campos|      200ml|             886|\n",
      "|          Joinville|     1000ml|             874|\n",
      "|         Jaguariúna|      700ml|             870|\n",
      "|São José dos Campos|      700ml|             863|\n",
      "|      Florianópolis|      500ml|             861|\n",
      "|           Blumenau|     1000ml|             861|\n",
      "|          Fortaleza|      500ml|             860|\n",
      "|          Fortaleza|     1000ml|             860|\n",
      "|         Petrópolis|      200ml|             855|\n",
      "|             Itajaí|      300ml|             854|\n",
      "|  Juazeiro do Norte|      200ml|             854|\n",
      "|        Nova Iguaçu|     1000ml|             851|\n",
      "|    Duque de Caxias|      300ml|             850|\n",
      "|             Itajaí|     1000ml|             849|\n",
      "|          Nilópolis|      500ml|             847|\n",
      "|           Caieiras|      300ml|             842|\n",
      "|     Rio de Janeiro|      200ml|             841|\n",
      "+-------------------+-----------+----------------+\n",
      "only showing top 20 rows\n",
      "\n"
     ]
    }
   ],
   "source": [
    "pedidos.groupBy('Cidade', 'TamanhoCopo')\\\n",
    "    .count()\\\n",
    "    .withColumnRenamed('count', 'Contagem Pedidos')\\\n",
    "    .orderBy('Contagem Pedidos', ascending= False)\\\n",
    "    .show()"
   ]
  },
  {
   "cell_type": "markdown",
   "metadata": {},
   "source": [
    "##### Pedidos por horário quando o consumo foi no local"
   ]
  },
  {
   "cell_type": "code",
   "execution_count": null,
   "metadata": {},
   "outputs": [
    {
     "name": "stdout",
     "output_type": "stream",
     "text": [
      "+----------+----------------+----------------+\n",
      "|HoraPedido|     TipoEntrega|Contagem Pedidos|\n",
      "+----------+----------------+----------------+\n",
      "|        13|Consumo no local|            3000|\n",
      "|        10|Consumo no local|            2977|\n",
      "|        17|Consumo no local|            2958|\n",
      "|        16|Consumo no local|            2954|\n",
      "|        20|Consumo no local|            2920|\n",
      "|        19|Consumo no local|            2912|\n",
      "|        18|Consumo no local|            2910|\n",
      "|        15|Consumo no local|            2908|\n",
      "|        11|Consumo no local|            2898|\n",
      "|         9|Consumo no local|            2893|\n",
      "|        12|Consumo no local|            2863|\n",
      "|        14|Consumo no local|            2860|\n",
      "|        21|Consumo no local|              46|\n",
      "+----------+----------------+----------------+\n",
      "\n"
     ]
    }
   ],
   "source": [
    "# Consumo no local por hora\n",
    "pedidos.groupBy('HoraPedido', 'TipoEntrega')\\\n",
    "    .count()\\\n",
    "    .withColumnRenamed('count', 'Contagem Pedidos')\\\n",
    "    .filter(col('TipoEntrega') == 'Consumo no local')\\\n",
    "    .orderBy('Contagem Pedidos', ascending= False)\\\n",
    "    .show()"
   ]
  },
  {
   "cell_type": "markdown",
   "metadata": {},
   "source": [
    "##### Pedidos por horário quando foi solicitado Delivery"
   ]
  },
  {
   "cell_type": "code",
   "execution_count": null,
   "metadata": {},
   "outputs": [
    {
     "name": "stdout",
     "output_type": "stream",
     "text": [
      "+----------+-----------+----------------+\n",
      "|HoraPedido|TipoEntrega|Contagem Pedidos|\n",
      "+----------+-----------+----------------+\n",
      "|        14|   Delivery|            2992|\n",
      "|        18|   Delivery|            2957|\n",
      "|        10|   Delivery|            2953|\n",
      "|        11|   Delivery|            2943|\n",
      "|        20|   Delivery|            2920|\n",
      "|        12|   Delivery|            2908|\n",
      "|        19|   Delivery|            2886|\n",
      "|        16|   Delivery|            2885|\n",
      "|        17|   Delivery|            2876|\n",
      "|        13|   Delivery|            2875|\n",
      "|        15|   Delivery|            2856|\n",
      "|         9|   Delivery|            2805|\n",
      "|        21|   Delivery|              45|\n",
      "+----------+-----------+----------------+\n",
      "\n"
     ]
    }
   ],
   "source": [
    "# Delivery por hora\n",
    "pedidos.groupBy('HoraPedido', 'TipoEntrega')\\\n",
    "    .count()\\\n",
    "    .withColumnRenamed('count', 'Contagem Pedidos')\\\n",
    "    .filter(col('TipoEntrega') == 'Delivery')\\\n",
    "    .orderBy('Contagem Pedidos', ascending= False)\\\n",
    "    .show()"
   ]
  },
  {
   "cell_type": "markdown",
   "metadata": {},
   "source": [
    "##### Pedidos por mês quando o consumo foi no local"
   ]
  },
  {
   "cell_type": "code",
   "execution_count": null,
   "metadata": {},
   "outputs": [
    {
     "name": "stdout",
     "output_type": "stream",
     "text": [
      "+---+----------------+----------------+\n",
      "|Mes|     TipoEntrega|Contagem Pedidos|\n",
      "+---+----------------+----------------+\n",
      "|  3|Consumo no local|            3185|\n",
      "|  7|Consumo no local|            3139|\n",
      "| 10|Consumo no local|            3057|\n",
      "|  5|Consumo no local|            3056|\n",
      "| 12|Consumo no local|            2991|\n",
      "|  9|Consumo no local|            2903|\n",
      "|  1|Consumo no local|            2863|\n",
      "|  8|Consumo no local|            2850|\n",
      "| 11|Consumo no local|            2815|\n",
      "|  6|Consumo no local|            2810|\n",
      "|  4|Consumo no local|            2769|\n",
      "|  2|Consumo no local|            2661|\n",
      "+---+----------------+----------------+\n",
      "\n"
     ]
    }
   ],
   "source": [
    "# Consumo no local por mes\n",
    "pedidos.groupBy(month('Data').alias('Mes'), 'TipoEntrega')\\\n",
    "    .count()\\\n",
    "    .withColumnRenamed('count', 'Contagem Pedidos')\\\n",
    "    .filter(col('TipoEntrega') == 'Consumo no local')\\\n",
    "    .orderBy('Contagem Pedidos', ascending= False)\\\n",
    "    .show()"
   ]
  },
  {
   "cell_type": "markdown",
   "metadata": {},
   "source": [
    "##### Pedidos por mês quando foi solicitado Delivery"
   ]
  },
  {
   "cell_type": "code",
   "execution_count": null,
   "metadata": {},
   "outputs": [
    {
     "name": "stdout",
     "output_type": "stream",
     "text": [
      "+---+-----------+----------------+\n",
      "|Mes|TipoEntrega|Contagem Pedidos|\n",
      "+---+-----------+----------------+\n",
      "|  3|   Delivery|            3120|\n",
      "| 10|   Delivery|            3024|\n",
      "|  7|   Delivery|            3004|\n",
      "| 12|   Delivery|            2979|\n",
      "|  5|   Delivery|            2953|\n",
      "|  6|   Delivery|            2921|\n",
      "|  1|   Delivery|            2909|\n",
      "|  8|   Delivery|            2908|\n",
      "| 11|   Delivery|            2905|\n",
      "|  4|   Delivery|            2766|\n",
      "|  9|   Delivery|            2732|\n",
      "|  2|   Delivery|            2680|\n",
      "+---+-----------+----------------+\n",
      "\n"
     ]
    }
   ],
   "source": [
    "# Consumo no local por mes\n",
    "pedidos.groupBy(month('Data').alias('Mes'), 'TipoEntrega')\\\n",
    "    .count()\\\n",
    "    .withColumnRenamed('count', 'Contagem Pedidos')\\\n",
    "    .filter(col('TipoEntrega') == 'Delivery')\\\n",
    "    .orderBy('Contagem Pedidos', ascending= False)\\\n",
    "    .show()"
   ]
  },
  {
   "cell_type": "markdown",
   "metadata": {},
   "source": [
    "##### Pedidos por dia quando o consumo foi no local"
   ]
  },
  {
   "cell_type": "code",
   "execution_count": null,
   "metadata": {},
   "outputs": [
    {
     "name": "stdout",
     "output_type": "stream",
     "text": [
      "+---+----------------+----------------+\n",
      "|Dia|     TipoEntrega|Contagem Pedidos|\n",
      "+---+----------------+----------------+\n",
      "|  1|Consumo no local|            1549|\n",
      "|  3|Consumo no local|            1237|\n",
      "| 15|Consumo no local|            1180|\n",
      "|  2|Consumo no local|            1174|\n",
      "| 23|Consumo no local|            1168|\n",
      "| 18|Consumo no local|            1166|\n",
      "| 25|Consumo no local|            1160|\n",
      "| 14|Consumo no local|            1159|\n",
      "|  8|Consumo no local|            1158|\n",
      "| 27|Consumo no local|            1156|\n",
      "| 28|Consumo no local|            1154|\n",
      "|  6|Consumo no local|            1150|\n",
      "| 12|Consumo no local|            1147|\n",
      "| 26|Consumo no local|            1142|\n",
      "| 11|Consumo no local|            1140|\n",
      "|  7|Consumo no local|            1132|\n",
      "| 10|Consumo no local|            1131|\n",
      "|  9|Consumo no local|            1126|\n",
      "| 13|Consumo no local|            1125|\n",
      "| 21|Consumo no local|            1125|\n",
      "+---+----------------+----------------+\n",
      "only showing top 20 rows\n",
      "\n"
     ]
    }
   ],
   "source": [
    "# Consumo no local por mes\n",
    "pedidos.groupBy(dayofmonth('Data').alias('Dia'), 'TipoEntrega')\\\n",
    "    .count()\\\n",
    "    .withColumnRenamed('count', 'Contagem Pedidos')\\\n",
    "    .filter(col('TipoEntrega') == 'Consumo no local')\\\n",
    "    .orderBy('Contagem Pedidos', ascending= False)\\\n",
    "    .show()"
   ]
  },
  {
   "cell_type": "markdown",
   "metadata": {},
   "source": [
    "##### Pedidos por dia quando foi solicitado Delivery"
   ]
  },
  {
   "cell_type": "code",
   "execution_count": null,
   "metadata": {},
   "outputs": [
    {
     "name": "stdout",
     "output_type": "stream",
     "text": [
      "+---+-----------+----------------+\n",
      "|Dia|TipoEntrega|Contagem Pedidos|\n",
      "+---+-----------+----------------+\n",
      "|  1|   Delivery|            1620|\n",
      "|  2|   Delivery|            1226|\n",
      "|  8|   Delivery|            1217|\n",
      "| 21|   Delivery|            1190|\n",
      "| 17|   Delivery|            1189|\n",
      "| 25|   Delivery|            1180|\n",
      "|  3|   Delivery|            1174|\n",
      "| 12|   Delivery|            1173|\n",
      "| 18|   Delivery|            1164|\n",
      "| 16|   Delivery|            1162|\n",
      "|  4|   Delivery|            1159|\n",
      "|  5|   Delivery|            1154|\n",
      "| 24|   Delivery|            1145|\n",
      "| 11|   Delivery|            1142|\n",
      "| 20|   Delivery|            1134|\n",
      "| 26|   Delivery|            1133|\n",
      "| 13|   Delivery|            1132|\n",
      "|  7|   Delivery|            1114|\n",
      "| 15|   Delivery|            1113|\n",
      "| 22|   Delivery|            1103|\n",
      "+---+-----------+----------------+\n",
      "only showing top 20 rows\n",
      "\n"
     ]
    }
   ],
   "source": [
    "pedidos.groupBy(dayofmonth('Data').alias('Dia'), 'TipoEntrega')\\\n",
    "    .count()\\\n",
    "    .withColumnRenamed('count', 'Contagem Pedidos')\\\n",
    "    .filter(col('TipoEntrega') == 'Delivery')\\\n",
    "    .orderBy('Contagem Pedidos', ascending= False)\\\n",
    "    .show()"
   ]
  },
  {
   "cell_type": "markdown",
   "metadata": {},
   "source": [
    "##### Pedidos por mês e por cidade"
   ]
  },
  {
   "cell_type": "code",
   "execution_count": null,
   "metadata": {},
   "outputs": [
    {
     "name": "stdout",
     "output_type": "stream",
     "text": [
      "+---+-------------------+----------------+\n",
      "|Mes|             Cidade|Contagem Pedidos|\n",
      "+---+-------------------+----------------+\n",
      "|  7|     Rio de Janeiro|             404|\n",
      "|  3|             Itajaí|             401|\n",
      "|  3|   Campos do Jordão|             391|\n",
      "|  7|          Joinville|             391|\n",
      "| 10|        Nova Iguaçu|             388|\n",
      "|  3|        Nova Iguaçu|             387|\n",
      "|  3|São José dos Campos|             386|\n",
      "|  7|           Blumenau|             385|\n",
      "|  1|São José dos Campos|             384|\n",
      "|  3|          Fortaleza|             384|\n",
      "| 10|          Fortaleza|             382|\n",
      "|  7|          Nilópolis|             381|\n",
      "|  5|          Nilópolis|             381|\n",
      "| 12|         Petrópolis|             380|\n",
      "| 10|  Juazeiro do Norte|             380|\n",
      "| 12|          Joinville|             380|\n",
      "|  3|    Duque de Caxias|             377|\n",
      "| 10|           Blumenau|             377|\n",
      "|  3|           Blumenau|             376|\n",
      "|  5|    Duque de Caxias|             376|\n",
      "+---+-------------------+----------------+\n",
      "only showing top 20 rows\n",
      "\n"
     ]
    }
   ],
   "source": [
    "pedidos.groupBy(month('Data').alias('Mes'), 'Cidade')\\\n",
    "    .count()\\\n",
    "    .withColumnRenamed('count', 'Contagem Pedidos')\\\n",
    "    .orderBy('Contagem Pedidos', ascending= False)\\\n",
    "    .show()"
   ]
  },
  {
   "cell_type": "markdown",
   "metadata": {},
   "source": [
    "### Faturamento\n",
    "\n",
    "#### Será analisado o faturamento pelos descritivos contidos na base"
   ]
  },
  {
   "cell_type": "code",
   "execution_count": null,
   "metadata": {},
   "outputs": [],
   "source": [
    "# Convertendo a coluna valor para numeric\n",
    "pedidos = pedidos.withColumn(\"Valor\", col(\"Valor\").cast(IntegerType()))"
   ]
  },
  {
   "cell_type": "markdown",
   "metadata": {},
   "source": [
    "##### Faturamento por horário do dia"
   ]
  },
  {
   "cell_type": "code",
   "execution_count": null,
   "metadata": {},
   "outputs": [
    {
     "name": "stdout",
     "output_type": "stream",
     "text": [
      "+----------+-----------+\n",
      "|HoraPedido|Faturamento|\n",
      "+----------+-----------+\n",
      "|        14|      53164|\n",
      "|        13|      53089|\n",
      "|        10|      52940|\n",
      "|        18|      52827|\n",
      "|        11|      52767|\n",
      "|        16|      52691|\n",
      "|        20|      52614|\n",
      "|        17|      52276|\n",
      "|        15|      52076|\n",
      "|        19|      52076|\n",
      "|        12|      51969|\n",
      "|         9|      51366|\n",
      "|        21|        815|\n",
      "+----------+-----------+\n",
      "\n"
     ]
    }
   ],
   "source": [
    "pedidos.groupBy('HoraPedido')\\\n",
    "    .sum('Valor')\\\n",
    "    .withColumnRenamed('sum(Valor)', 'Faturamento')\\\n",
    "    .orderBy('Faturamento', ascending= False)\\\n",
    "    .show()"
   ]
  },
  {
   "cell_type": "markdown",
   "metadata": {},
   "source": [
    "##### Faturamento por mês"
   ]
  },
  {
   "cell_type": "code",
   "execution_count": null,
   "metadata": {},
   "outputs": [
    {
     "name": "stdout",
     "output_type": "stream",
     "text": [
      "+---+-----------+\n",
      "|Mes|Faturamento|\n",
      "+---+-----------+\n",
      "|  3|      57079|\n",
      "|  7|      55035|\n",
      "|  5|      54605|\n",
      "| 10|      54513|\n",
      "| 12|      54092|\n",
      "|  1|      51994|\n",
      "|  8|      51842|\n",
      "| 11|      51754|\n",
      "|  6|      51415|\n",
      "|  9|      50831|\n",
      "|  4|      49627|\n",
      "|  2|      47883|\n",
      "+---+-----------+\n",
      "\n"
     ]
    }
   ],
   "source": [
    "pedidos.groupBy(month('Data').alias('Mes'))\\\n",
    "    .sum('Valor')\\\n",
    "    .withColumnRenamed('sum(Valor)', 'Faturamento')\\\n",
    "    .orderBy('Faturamento', ascending= False)\\\n",
    "    .show()"
   ]
  },
  {
   "cell_type": "markdown",
   "metadata": {},
   "source": [
    "##### Faturamento por ano"
   ]
  },
  {
   "cell_type": "code",
   "execution_count": null,
   "metadata": {},
   "outputs": [
    {
     "name": "stdout",
     "output_type": "stream",
     "text": [
      "+----+-----------+\n",
      "| Ano|Faturamento|\n",
      "+----+-----------+\n",
      "|2022|     158640|\n",
      "|2023|     157910|\n",
      "|2021|     157075|\n",
      "|2020|     157045|\n",
      "+----+-----------+\n",
      "\n"
     ]
    }
   ],
   "source": [
    "pedidos.groupBy(year('Data').alias('Ano'))\\\n",
    "    .sum('Valor')\\\n",
    "    .withColumnRenamed('sum(Valor)', 'Faturamento')\\\n",
    "    .orderBy('Faturamento', ascending= False)\\\n",
    "    .show()"
   ]
  },
  {
   "cell_type": "markdown",
   "metadata": {},
   "source": [
    "##### Faturamento por dia do mes"
   ]
  },
  {
   "cell_type": "code",
   "execution_count": null,
   "metadata": {},
   "outputs": [
    {
     "name": "stdout",
     "output_type": "stream",
     "text": [
      "+---+-----------+\n",
      "|Dia|Faturamento|\n",
      "+---+-----------+\n",
      "|  1|      28601|\n",
      "|  2|      21770|\n",
      "|  3|      21673|\n",
      "|  8|      21631|\n",
      "| 25|      21154|\n",
      "| 18|      21104|\n",
      "| 17|      20915|\n",
      "| 12|      20842|\n",
      "| 21|      20701|\n",
      "|  5|      20526|\n",
      "| 11|      20486|\n",
      "| 15|      20429|\n",
      "| 26|      20417|\n",
      "| 13|      20407|\n",
      "| 14|      20289|\n",
      "| 16|      20228|\n",
      "|  6|      20195|\n",
      "| 20|      20167|\n",
      "| 23|      20144|\n",
      "| 27|      20143|\n",
      "+---+-----------+\n",
      "only showing top 20 rows\n",
      "\n"
     ]
    }
   ],
   "source": [
    "pedidos.groupBy(dayofmonth('Data').alias('Dia'))\\\n",
    "    .sum('Valor')\\\n",
    "    .withColumnRenamed('sum(Valor)', 'Faturamento')\\\n",
    "    .orderBy('Faturamento', ascending= False)\\\n",
    "    .show()"
   ]
  },
  {
   "cell_type": "markdown",
   "metadata": {},
   "source": [
    "##### Faturamento por cidade"
   ]
  },
  {
   "cell_type": "code",
   "execution_count": null,
   "metadata": {},
   "outputs": [
    {
     "name": "stdout",
     "output_type": "stream",
     "text": [
      "+-------------------+-----------+\n",
      "|             Cidade|Faturamento|\n",
      "+-------------------+-----------+\n",
      "|           Blumenau|      38160|\n",
      "|         Petrópolis|      38046|\n",
      "|     Rio de Janeiro|      37854|\n",
      "|             Itajaí|      37658|\n",
      "|          Fortaleza|      37319|\n",
      "|São José dos Campos|      37279|\n",
      "|      Florianópolis|      37216|\n",
      "|          Joinville|      37194|\n",
      "|        Nova Iguaçu|      37039|\n",
      "|             Sobral|      36976|\n",
      "|         Jaguariúna|      36952|\n",
      "|          Nilópolis|      36816|\n",
      "|  Juazeiro do Norte|      36747|\n",
      "|    Duque de Caxias|      36654|\n",
      "|           Caieiras|      36646|\n",
      "|   Campos do Jordão|      36142|\n",
      "|          São Paulo|      35972|\n",
      "+-------------------+-----------+\n",
      "\n"
     ]
    }
   ],
   "source": [
    "pedidos.groupBy('Cidade')\\\n",
    "    .sum('Valor')\\\n",
    "    .withColumnRenamed('sum(Valor)', 'Faturamento')\\\n",
    "    .orderBy('Faturamento', ascending= False)\\\n",
    "    .show()"
   ]
  },
  {
   "cell_type": "markdown",
   "metadata": {},
   "source": [
    "##### Faturamento por estado"
   ]
  },
  {
   "cell_type": "code",
   "execution_count": null,
   "metadata": {},
   "outputs": [
    {
     "name": "stdout",
     "output_type": "stream",
     "text": [
      "+--------------+-----------+\n",
      "|        Estado|Faturamento|\n",
      "+--------------+-----------+\n",
      "|Rio de Janeiro|     186409|\n",
      "|     São Paulo|     182991|\n",
      "|Santa Catarina|     150228|\n",
      "|         Ceará|     111042|\n",
      "+--------------+-----------+\n",
      "\n"
     ]
    }
   ],
   "source": [
    "pedidos.groupBy('Estado')\\\n",
    "    .sum('Valor')\\\n",
    "    .withColumnRenamed('sum(Valor)', 'Faturamento')\\\n",
    "    .orderBy('Faturamento', ascending= False)\\\n",
    "    .show()"
   ]
  },
  {
   "cell_type": "markdown",
   "metadata": {},
   "source": [
    "##### Faturamento por região"
   ]
  },
  {
   "cell_type": "code",
   "execution_count": null,
   "metadata": {},
   "outputs": [
    {
     "name": "stdout",
     "output_type": "stream",
     "text": [
      "+--------+-----------+\n",
      "|  Regiao|Faturamento|\n",
      "+--------+-----------+\n",
      "| Sudeste|     369400|\n",
      "|     Sul|     150228|\n",
      "|Nordeste|     111042|\n",
      "+--------+-----------+\n",
      "\n"
     ]
    }
   ],
   "source": [
    "pedidos.groupBy('Regiao')\\\n",
    "    .sum('Valor')\\\n",
    "    .withColumnRenamed('sum(Valor)', 'Faturamento')\\\n",
    "    .orderBy('Faturamento', ascending= False)\\\n",
    "    .show()"
   ]
  },
  {
   "cell_type": "markdown",
   "metadata": {},
   "source": [
    "##### Faturamento por consumo (entrega ou no local)"
   ]
  },
  {
   "cell_type": "code",
   "execution_count": null,
   "metadata": {},
   "outputs": [
    {
     "name": "stdout",
     "output_type": "stream",
     "text": [
      "+----------------+-----------+\n",
      "|     TipoEntrega|Faturamento|\n",
      "+----------------+-----------+\n",
      "|Consumo no local|     316137|\n",
      "|        Delivery|     314533|\n",
      "+----------------+-----------+\n",
      "\n"
     ]
    }
   ],
   "source": [
    "pedidos.groupBy('TipoEntrega')\\\n",
    "    .sum('Valor')\\\n",
    "    .withColumnRenamed('sum(Valor)', 'Faturamento')\\\n",
    "    .orderBy('Faturamento', ascending= False)\\\n",
    "    .show()"
   ]
  },
  {
   "cell_type": "markdown",
   "metadata": {},
   "source": [
    "##### Faturamento por tipo de pagamento"
   ]
  },
  {
   "cell_type": "code",
   "execution_count": null,
   "metadata": {},
   "outputs": [
    {
     "name": "stdout",
     "output_type": "stream",
     "text": [
      "+-------------+-----------+\n",
      "|TipoPagamento|Faturamento|\n",
      "+-------------+-----------+\n",
      "|     Dinheiro|     158915|\n",
      "|       Débito|     158430|\n",
      "|      Crédito|     156721|\n",
      "|          Pix|     156604|\n",
      "+-------------+-----------+\n",
      "\n"
     ]
    }
   ],
   "source": [
    "pedidos.groupBy('TipoPagamento')\\\n",
    "    .sum('Valor')\\\n",
    "    .withColumnRenamed('sum(Valor)', 'Faturamento')\\\n",
    "    .orderBy('Faturamento', ascending= False)\\\n",
    "    .show()"
   ]
  },
  {
   "cell_type": "markdown",
   "metadata": {},
   "source": [
    "##### Faturamento por mês onde o consumo foi no local"
   ]
  },
  {
   "cell_type": "code",
   "execution_count": null,
   "metadata": {},
   "outputs": [
    {
     "name": "stdout",
     "output_type": "stream",
     "text": [
      "+---+----------------+-----------+\n",
      "|Mes|     TipoEntrega|Faturamento|\n",
      "+---+----------------+-----------+\n",
      "|  3|Consumo no local|      28707|\n",
      "|  7|Consumo no local|      28109|\n",
      "|  5|Consumo no local|      27872|\n",
      "| 10|Consumo no local|      27401|\n",
      "| 12|Consumo no local|      27285|\n",
      "|  9|Consumo no local|      26199|\n",
      "|  1|Consumo no local|      25817|\n",
      "|  8|Consumo no local|      25686|\n",
      "| 11|Consumo no local|      25435|\n",
      "|  6|Consumo no local|      25038|\n",
      "|  4|Consumo no local|      24775|\n",
      "|  2|Consumo no local|      23813|\n",
      "+---+----------------+-----------+\n",
      "\n"
     ]
    }
   ],
   "source": [
    "pedidos.groupBy(month('Data').alias('Mes'), 'TipoEntrega')\\\n",
    "    .sum('Valor')\\\n",
    "    .withColumnRenamed('sum(Valor)', 'Faturamento')\\\n",
    "    .filter(col('TipoEntrega') == 'Consumo no local')\\\n",
    "    .orderBy('Faturamento', ascending= False)\\\n",
    "    .show()"
   ]
  },
  {
   "cell_type": "markdown",
   "metadata": {},
   "source": [
    "##### Faturamento por mês onde o consumo foi por delivery"
   ]
  },
  {
   "cell_type": "code",
   "execution_count": null,
   "metadata": {},
   "outputs": [
    {
     "name": "stdout",
     "output_type": "stream",
     "text": [
      "+---+-----------+-----------+\n",
      "|Mes|TipoEntrega|Faturamento|\n",
      "+---+-----------+-----------+\n",
      "|  3|   Delivery|      28372|\n",
      "| 10|   Delivery|      27112|\n",
      "|  7|   Delivery|      26926|\n",
      "| 12|   Delivery|      26807|\n",
      "|  5|   Delivery|      26733|\n",
      "|  6|   Delivery|      26377|\n",
      "| 11|   Delivery|      26319|\n",
      "|  1|   Delivery|      26177|\n",
      "|  8|   Delivery|      26156|\n",
      "|  4|   Delivery|      24852|\n",
      "|  9|   Delivery|      24632|\n",
      "|  2|   Delivery|      24070|\n",
      "+---+-----------+-----------+\n",
      "\n"
     ]
    }
   ],
   "source": [
    "pedidos.groupBy(month('Data').alias('Mes'), 'TipoEntrega')\\\n",
    "    .sum('Valor')\\\n",
    "    .withColumnRenamed('sum(Valor)', 'Faturamento')\\\n",
    "    .filter(col('TipoEntrega') == 'Delivery')\\\n",
    "    .orderBy('Faturamento', ascending= False)\\\n",
    "    .show()"
   ]
  },
  {
   "cell_type": "markdown",
   "metadata": {},
   "source": [
    "##### Faturamento por mes por tipo de pagamento"
   ]
  },
  {
   "cell_type": "code",
   "execution_count": null,
   "metadata": {},
   "outputs": [
    {
     "name": "stdout",
     "output_type": "stream",
     "text": [
      "+---+-------------+-----------+\n",
      "|Mes|TipoPagamento|Faturamento|\n",
      "+---+-------------+-----------+\n",
      "|  3|      Crédito|      14313|\n",
      "|  3|     Dinheiro|      14298|\n",
      "|  3|          Pix|      14271|\n",
      "|  5|     Dinheiro|      14198|\n",
      "|  3|       Débito|      14197|\n",
      "| 10|      Crédito|      14061|\n",
      "|  7|       Débito|      13879|\n",
      "|  5|          Pix|      13871|\n",
      "| 12|     Dinheiro|      13833|\n",
      "|  7|          Pix|      13804|\n",
      "|  7|      Crédito|      13769|\n",
      "| 10|     Dinheiro|      13756|\n",
      "| 12|       Débito|      13753|\n",
      "| 10|       Débito|      13687|\n",
      "|  1|     Dinheiro|      13632|\n",
      "|  7|     Dinheiro|      13583|\n",
      "|  9|          Pix|      13333|\n",
      "| 12|          Pix|      13300|\n",
      "|  5|      Crédito|      13278|\n",
      "|  5|       Débito|      13258|\n",
      "+---+-------------+-----------+\n",
      "only showing top 20 rows\n",
      "\n"
     ]
    }
   ],
   "source": [
    "pedidos.groupBy(month('Data').alias('Mes'), 'TipoPagamento')\\\n",
    "    .sum('Valor')\\\n",
    "    .withColumnRenamed('sum(Valor)', 'Faturamento')\\\n",
    "    .orderBy('Faturamento', ascending= False)\\\n",
    "    .show()"
   ]
  },
  {
   "cell_type": "markdown",
   "metadata": {},
   "source": [
    "##### Faturamento por dia do mes mes por tipo de pagamento"
   ]
  },
  {
   "cell_type": "code",
   "execution_count": null,
   "metadata": {},
   "outputs": [
    {
     "name": "stdout",
     "output_type": "stream",
     "text": [
      "+---+-------------+-----------+\n",
      "|Dia|TipoPagamento|Faturamento|\n",
      "+---+-------------+-----------+\n",
      "|  1|       Débito|       7276|\n",
      "|  1|     Dinheiro|       7192|\n",
      "|  1|      Crédito|       7132|\n",
      "|  1|          Pix|       7001|\n",
      "|  3|       Débito|       5799|\n",
      "| 12|       Débito|       5733|\n",
      "|  2|      Crédito|       5700|\n",
      "|  8|      Crédito|       5561|\n",
      "| 25|      Crédito|       5510|\n",
      "| 18|          Pix|       5490|\n",
      "|  9|     Dinheiro|       5488|\n",
      "| 21|     Dinheiro|       5471|\n",
      "|  8|     Dinheiro|       5452|\n",
      "| 13|       Débito|       5448|\n",
      "|  2|     Dinheiro|       5441|\n",
      "|  2|       Débito|       5410|\n",
      "|  3|      Crédito|       5403|\n",
      "|  8|       Débito|       5399|\n",
      "| 23|       Débito|       5391|\n",
      "| 15|          Pix|       5376|\n",
      "+---+-------------+-----------+\n",
      "only showing top 20 rows\n",
      "\n"
     ]
    }
   ],
   "source": [
    "pedidos.groupBy(dayofmonth('Data').alias('Dia'), 'TipoPagamento')\\\n",
    "    .sum('Valor')\\\n",
    "    .withColumnRenamed('sum(Valor)', 'Faturamento')\\\n",
    "    .orderBy('Faturamento', ascending= False)\\\n",
    "    .show()"
   ]
  }
 ],
 "metadata": {
  "kernelspec": {
   "display_name": "Python 3.10.0 64-bit",
   "language": "python",
   "name": "python3"
  },
  "language_info": {
   "codemirror_mode": {
    "name": "ipython",
    "version": 3
   },
   "file_extension": ".py",
   "mimetype": "text/x-python",
   "name": "python",
   "nbconvert_exporter": "python",
   "pygments_lexer": "ipython3",
   "version": "3.10.0"
  },
  "orig_nbformat": 4,
  "vscode": {
   "interpreter": {
    "hash": "afb734500600fd355917ca529030176ea0ca205570884b88f2f6f7d791fd3fbe"
   }
  }
 },
 "nbformat": 4,
 "nbformat_minor": 2
}
